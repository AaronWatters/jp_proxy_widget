{
 "cells": [
  {
   "cell_type": "code",
   "execution_count": 1,
   "metadata": {},
   "outputs": [],
   "source": [
    "import jp_proxy_widget\n",
    "from IPython.display import display"
   ]
  },
  {
   "cell_type": "code",
   "execution_count": 2,
   "metadata": {},
   "outputs": [
    {
     "data": {
      "text/plain": [
       "('awaiting render',\n",
       " [['method',\n",
       "   ['method',\n",
       "    ['element'],\n",
       "    'html',\n",
       "    '<b id=\"my_dialog\">Hello from jQueryUI</b>'],\n",
       "   'dialog']])"
      ]
     },
     "execution_count": 2,
     "metadata": {},
     "output_type": "execute_result"
    }
   ],
   "source": [
    "w = jp_proxy_widget.JSProxyWidget()\n",
    "\n",
    "# Construct a command to make the widget into a jQueryUI dialog.\n",
    "command = w.element().html('<b id=\"my_dialog\">Hello from jQueryUI</b>').dialog()\n",
    "\n",
    "# Send the command to the widget view (javascript side).\n",
    "w.send_command(command)\n"
   ]
  },
  {
   "cell_type": "code",
   "execution_count": 3,
   "metadata": {},
   "outputs": [
    {
     "data": {
      "application/vnd.jupyter.widget-view+json": {
       "model_id": "d35e410fa79d4f289cd011b14b424d50",
       "version_major": 2,
       "version_minor": 0
      },
      "text/html": [
       "<p>Failed to display Jupyter Widget of type <code>JSProxyWidget</code>.</p>\n",
       "<p>\n",
       "  If you're reading this message in Jupyter Notebook or JupyterLab, it may mean\n",
       "  that the widgets JavaScript is still loading. If this message persists, it\n",
       "  likely means that the widgets JavaScript library is either not installed or\n",
       "  not enabled. See the <a href=\"https://ipywidgets.readthedocs.io/en/stable/user_install.html\">Jupyter\n",
       "  Widgets Documentation</a> for setup instructions.\n",
       "</p>\n",
       "<p>\n",
       "  If you're reading this message in another notebook frontend (for example, a static\n",
       "  rendering on GitHub or <a href=\"https://nbviewer.jupyter.org/\">NBViewer</a>),\n",
       "  it may mean that your frontend doesn't currently support widgets.\n",
       "</p>\n"
      ],
      "text/plain": [
       "JSProxyWidget()"
      ]
     },
     "metadata": {},
     "output_type": "display_data"
    }
   ],
   "source": [
    "display(w)"
   ]
  },
  {
   "cell_type": "code",
   "execution_count": 4,
   "metadata": {},
   "outputs": [
    {
     "data": {
      "text/plain": [
       "[1, [{u'jquery': u'2.0.3', u'length': 1, u'selector': u''}]]"
      ]
     },
     "execution_count": 4,
     "metadata": {},
     "output_type": "execute_result"
    }
   ],
   "source": [
    "w.results"
   ]
  },
  {
   "cell_type": "code",
   "execution_count": 5,
   "metadata": {},
   "outputs": [
    {
     "data": {
      "text/plain": [
       "[1, [{u'jquery': u'2.0.3', u'length': 1, u'selector': u''}]]"
      ]
     },
     "execution_count": 5,
     "metadata": {},
     "output_type": "execute_result"
    }
   ],
   "source": [
    "# get the date from javascript, asyncronously\n",
    "window = w.window()\n",
    "w.send_command(window.Date())\n",
    "w.results"
   ]
  },
  {
   "cell_type": "code",
   "execution_count": 6,
   "metadata": {},
   "outputs": [
    {
     "data": {
      "text/plain": [
       "[2, [u'Mon Nov 06 2017 08:21:46 GMT-0500 (EST)']]"
      ]
     },
     "execution_count": 6,
     "metadata": {},
     "output_type": "execute_result"
    }
   ],
   "source": [
    "w.results"
   ]
  },
  {
   "cell_type": "code",
   "execution_count": 7,
   "metadata": {},
   "outputs": [
    {
     "data": {
      "text/plain": [
       "[]"
      ]
     },
     "execution_count": 7,
     "metadata": {},
     "output_type": "execute_result"
    }
   ],
   "source": [
    "saved_results = []\n",
    "def save_result(result):\n",
    "    saved_results.append(result)\n",
    "    \n",
    "w.send_command(window.Date(), results_callback=save_result)\n",
    "saved_results"
   ]
  },
  {
   "cell_type": "code",
   "execution_count": 8,
   "metadata": {},
   "outputs": [
    {
     "data": {
      "text/plain": [
       "[[u'Mon Nov 06 2017 08:21:51 GMT-0500 (EST)']]"
      ]
     },
     "execution_count": 8,
     "metadata": {},
     "output_type": "execute_result"
    }
   ],
   "source": [
    "saved_results"
   ]
  },
  {
   "cell_type": "code",
   "execution_count": 9,
   "metadata": {},
   "outputs": [
    {
     "data": {
      "application/vnd.jupyter.widget-view+json": {
       "model_id": "9146550a3fef4f5298de84c3e44998f4",
       "version_major": 2,
       "version_minor": 0
      },
      "text/html": [
       "<p>Failed to display Jupyter Widget of type <code>JSProxyWidget</code>.</p>\n",
       "<p>\n",
       "  If you're reading this message in Jupyter Notebook or JupyterLab, it may mean\n",
       "  that the widgets JavaScript is still loading. If this message persists, it\n",
       "  likely means that the widgets JavaScript library is either not installed or\n",
       "  not enabled. See the <a href=\"https://ipywidgets.readthedocs.io/en/stable/user_install.html\">Jupyter\n",
       "  Widgets Documentation</a> for setup instructions.\n",
       "</p>\n",
       "<p>\n",
       "  If you're reading this message in another notebook frontend (for example, a static\n",
       "  rendering on GitHub or <a href=\"https://nbviewer.jupyter.org/\">NBViewer</a>),\n",
       "  it may mean that your frontend doesn't currently support widgets.\n",
       "</p>\n"
      ],
      "text/plain": [
       "JSProxyWidget()"
      ]
     },
     "metadata": {},
     "output_type": "display_data"
    }
   ],
   "source": [
    "# events\n",
    "callback_results = []\n",
    "\n",
    "def python_callback(data, results):\n",
    "    callback_results.append((data, results))\n",
    "    \n",
    "w = jp_proxy_widget.JSProxyWidget()\n",
    "\n",
    "level = 2\n",
    "\n",
    "proxy_callback = w.callback(python_callback, data=\"button click\", level=level)\n",
    "\n",
    "command = w.element().html('<button>Click me</button>').click(proxy_callback)\n",
    "\n",
    "# Send the command to the widget view (javascript side).\n",
    "w.send_command(command)\n",
    "display(w)"
   ]
  },
  {
   "cell_type": "code",
   "execution_count": 11,
   "metadata": {},
   "outputs": [
    {
     "data": {
      "text/plain": [
       "[(u'button click',\n",
       "  {u'0': {u'altKey': False,\n",
       "    u'bubbles': True,\n",
       "    u'button': 0,\n",
       "    u'buttons': 0,\n",
       "    u'cancelable': True,\n",
       "    u'clientX': 316,\n",
       "    u'clientY': 460,\n",
       "    u'ctrlKey': False,\n",
       "    u'eventPhase': 3,\n",
       "    u'jQuery20304476583901268463': True,\n",
       "    u'metaKey': False,\n",
       "    u'offsetX': 13,\n",
       "    u'offsetY': 5,\n",
       "    u'pageX': 316,\n",
       "    u'pageY': 460,\n",
       "    u'screenX': 396,\n",
       "    u'screenY': 672,\n",
       "    u'shiftKey': False,\n",
       "    u'timeStamp': 72287.48,\n",
       "    u'type': u'click',\n",
       "    u'which': 1}})]"
      ]
     },
     "execution_count": 11,
     "metadata": {},
     "output_type": "execute_result"
    }
   ],
   "source": [
    "callback_results"
   ]
  },
  {
   "cell_type": "code",
   "execution_count": null,
   "metadata": {},
   "outputs": [],
   "source": [
    "w.status, w._last_message_data"
   ]
  },
  {
   "cell_type": "code",
   "execution_count": null,
   "metadata": {},
   "outputs": [],
   "source": [
    "payload = w._last_message_data[\"payload\"]\n",
    "[identifier, json_value, arguments, counter] = payload\n",
    "cb = w.identifier_to_callback[identifier]\n",
    "cb(json_value, arguments)"
   ]
  },
  {
   "cell_type": "code",
   "execution_count": null,
   "metadata": {},
   "outputs": [],
   "source": [
    "w.status"
   ]
  },
  {
   "cell_type": "code",
   "execution_count": 12,
   "metadata": {},
   "outputs": [
    {
     "data": {
      "application/vnd.jupyter.widget-view+json": {
       "model_id": "48444e86f6ee4bf8800aa256ec93ceb8",
       "version_major": 2,
       "version_minor": 0
      },
      "text/html": [
       "<p>Failed to display Jupyter Widget of type <code>JSProxyWidget</code>.</p>\n",
       "<p>\n",
       "  If you're reading this message in Jupyter Notebook or JupyterLab, it may mean\n",
       "  that the widgets JavaScript is still loading. If this message persists, it\n",
       "  likely means that the widgets JavaScript library is either not installed or\n",
       "  not enabled. See the <a href=\"https://ipywidgets.readthedocs.io/en/stable/user_install.html\">Jupyter\n",
       "  Widgets Documentation</a> for setup instructions.\n",
       "</p>\n",
       "<p>\n",
       "  If you're reading this message in another notebook frontend (for example, a static\n",
       "  rendering on GitHub or <a href=\"https://nbviewer.jupyter.org/\">NBViewer</a>),\n",
       "  it may mean that your frontend doesn't currently support widgets.\n",
       "</p>\n"
      ],
      "text/plain": [
       "JSProxyWidget()"
      ]
     },
     "metadata": {},
     "output_type": "display_data"
    }
   ],
   "source": [
    "# Create the widget.\n",
    "dp = jp_proxy_widget.JSProxyWidget()\n",
    "\n",
    "# Command to populate the widget with an input element with id dp000.\n",
    "make_input = dp.element().html('<input type=\"text\" id=\"dp000\"/>')._null()\n",
    "\n",
    "# Command to make the input element into a datepicker and\n",
    "# fix the style so the datepicker sits on top of the notebook page.\n",
    "fix_style = (\n",
    "    dp.window().\n",
    "    jQuery(\"#dp000\").  # get the jQuery input element by id == \"dp\".\n",
    "    datepicker().   # make it a jQuery UI datepicker.\n",
    "    css(\"position\", \"relative\").\n",
    "    css(\"z-index\", \"10000\").  # put it on top\n",
    "    attr(\"size\", 55).  # make it big.\n",
    "    _null()   # we don't care about the command result, discard it.\n",
    "    )\n",
    "\n",
    "# Define a python function and data structures to capture\n",
    "# values sent to the callback when the datepicker input value changes.\n",
    "identifiers_list = []\n",
    "arguments_list = []\n",
    "\n",
    "def dp_change_handler(identifier, arguments):\n",
    "    \"Print the results and also store them in lists.\"\n",
    "    print (identifier, arguments['0']['target']['value'])\n",
    "    identifiers_list.append(identifier)\n",
    "    arguments_list.append(arguments)\n",
    "    \n",
    "# Command to create a \"proxy callback\" for the change event.\n",
    "# The proxy will translate values to JSON up to 3 levels deep\n",
    "# and also send the identifier data \"dp has changed\" to the handler.\n",
    "proxy_callback = dp.callback(dp_change_handler, data=\"dp has changed\", level=3)\n",
    "\n",
    "# Command to associate the proxy callback with the datepicker change event\n",
    "# using the standard $(x).change(callback) jQuery method.\n",
    "on_change_command = dp.window().jQuery(\"#dp000\").change(proxy_callback)\n",
    "\n",
    "# Send the commands to the Javascript view.\n",
    "dp.send_commands([make_input, fix_style, on_change_command])\n",
    "\n",
    "# display the widget\n",
    "display(dp)"
   ]
  },
  {
   "cell_type": "code",
   "execution_count": 13,
   "metadata": {},
   "outputs": [
    {
     "data": {
      "text/plain": [
       "[{u'0': {u'currentTarget': {u'ATTRIBUTE_NODE': 2,\n",
       "    u'CDATA_SECTION_NODE': 4,\n",
       "    u'COMMENT_NODE': 8,\n",
       "    u'DOCUMENT_FRAGMENT_NODE': 11,\n",
       "    u'DOCUMENT_NODE': 9,\n",
       "    u'DOCUMENT_POSITION_CONTAINED_BY': 16,\n",
       "    u'DOCUMENT_POSITION_CONTAINS': 8,\n",
       "    u'DOCUMENT_POSITION_DISCONNECTED': 1,\n",
       "    u'DOCUMENT_POSITION_FOLLOWING': 4,\n",
       "    u'DOCUMENT_POSITION_IMPLEMENTATION_SPECIFIC': 32,\n",
       "    u'DOCUMENT_POSITION_PRECEDING': 2,\n",
       "    u'DOCUMENT_TYPE_NODE': 10,\n",
       "    u'ELEMENT_NODE': 1,\n",
       "    u'ENTITY_NODE': 6,\n",
       "    u'ENTITY_REFERENCE_NODE': 5,\n",
       "    u'NOTATION_NODE': 12,\n",
       "    u'PROCESSING_INSTRUCTION_NODE': 7,\n",
       "    u'TEXT_NODE': 3,\n",
       "    u'accept': u'',\n",
       "    u'accessKey': u'',\n",
       "    u'align': u'',\n",
       "    u'alt': u'',\n",
       "    u'autocapitalize': u'sentences',\n",
       "    u'autocomplete': u'',\n",
       "    u'autofocus': False,\n",
       "    u'baseURI': u'http://localhost:8888/notebooks/repos/jp_proxy_widget/notebooks/proxy%20example.ipynb',\n",
       "    u'checked': False,\n",
       "    u'childElementCount': 0,\n",
       "    u'className': u'hasDatepicker',\n",
       "    u'clientHeight': 22,\n",
       "    u'clientLeft': 2,\n",
       "    u'clientTop': 2,\n",
       "    u'clientWidth': 404,\n",
       "    u'contentEditable': u'inherit',\n",
       "    u'defaultChecked': False,\n",
       "    u'defaultValue': u'',\n",
       "    u'dir': u'',\n",
       "    u'dirName': u'',\n",
       "    u'disabled': False,\n",
       "    u'draggable': False,\n",
       "    u'formAction': u'http://localhost:8888/notebooks/repos/jp_proxy_widget/notebooks/proxy%20example.ipynb',\n",
       "    u'formEnctype': u'',\n",
       "    u'formMethod': u'',\n",
       "    u'formNoValidate': False,\n",
       "    u'formTarget': u'',\n",
       "    u'height': 0,\n",
       "    u'hidden': False,\n",
       "    u'id': u'dp000',\n",
       "    u'incremental': False,\n",
       "    u'indeterminate': False,\n",
       "    u'innerHTML': u'',\n",
       "    u'innerText': u'',\n",
       "    u'isConnected': True,\n",
       "    u'isContentEditable': False,\n",
       "    u'lang': u'',\n",
       "    u'localName': u'input',\n",
       "    u'max': u'',\n",
       "    u'maxLength': -1,\n",
       "    u'min': u'',\n",
       "    u'minLength': -1,\n",
       "    u'multiple': False,\n",
       "    u'name': u'',\n",
       "    u'namespaceURI': u'http://www.w3.org/1999/xhtml',\n",
       "    u'nodeName': u'INPUT',\n",
       "    u'nodeType': 1,\n",
       "    u'nonce': u'',\n",
       "    u'offsetHeight': 26,\n",
       "    u'offsetLeft': 0,\n",
       "    u'offsetTop': 0,\n",
       "    u'offsetWidth': 408,\n",
       "    u'outerHTML': u'<input type=\"text\" id=\"dp000\" class=\"hasDatepicker\" size=\"55\" style=\"position: relative; z-index: 10000;\">',\n",
       "    u'outerText': u'',\n",
       "    u'pattern': u'',\n",
       "    u'placeholder': u'',\n",
       "    u'readOnly': False,\n",
       "    u'required': False,\n",
       "    u'scrollHeight': 22,\n",
       "    u'scrollLeft': 0,\n",
       "    u'scrollTop': 0,\n",
       "    u'scrollWidth': 404,\n",
       "    u'selectionDirection': u'none',\n",
       "    u'selectionEnd': 10,\n",
       "    u'selectionStart': 10,\n",
       "    u'size': 55,\n",
       "    u'slot': u'',\n",
       "    u'spellcheck': True,\n",
       "    u'src': u'',\n",
       "    u'step': u'',\n",
       "    u'tabIndex': 0,\n",
       "    u'tagName': u'INPUT',\n",
       "    u'textContent': u'',\n",
       "    u'title': u'',\n",
       "    u'translate': True,\n",
       "    u'type': u'text',\n",
       "    u'useMap': u'',\n",
       "    u'validationMessage': u'',\n",
       "    u'value': u'11/08/2017',\n",
       "    u'valueAsNumber': None,\n",
       "    u'webkitdirectory': False,\n",
       "    u'width': 0,\n",
       "    u'willValidate': True},\n",
       "   u'delegateTarget': {u'ATTRIBUTE_NODE': 2,\n",
       "    u'CDATA_SECTION_NODE': 4,\n",
       "    u'COMMENT_NODE': 8,\n",
       "    u'DOCUMENT_FRAGMENT_NODE': 11,\n",
       "    u'DOCUMENT_NODE': 9,\n",
       "    u'DOCUMENT_POSITION_CONTAINED_BY': 16,\n",
       "    u'DOCUMENT_POSITION_CONTAINS': 8,\n",
       "    u'DOCUMENT_POSITION_DISCONNECTED': 1,\n",
       "    u'DOCUMENT_POSITION_FOLLOWING': 4,\n",
       "    u'DOCUMENT_POSITION_IMPLEMENTATION_SPECIFIC': 32,\n",
       "    u'DOCUMENT_POSITION_PRECEDING': 2,\n",
       "    u'DOCUMENT_TYPE_NODE': 10,\n",
       "    u'ELEMENT_NODE': 1,\n",
       "    u'ENTITY_NODE': 6,\n",
       "    u'ENTITY_REFERENCE_NODE': 5,\n",
       "    u'NOTATION_NODE': 12,\n",
       "    u'PROCESSING_INSTRUCTION_NODE': 7,\n",
       "    u'TEXT_NODE': 3,\n",
       "    u'accept': u'',\n",
       "    u'accessKey': u'',\n",
       "    u'align': u'',\n",
       "    u'alt': u'',\n",
       "    u'autocapitalize': u'sentences',\n",
       "    u'autocomplete': u'',\n",
       "    u'autofocus': False,\n",
       "    u'baseURI': u'http://localhost:8888/notebooks/repos/jp_proxy_widget/notebooks/proxy%20example.ipynb',\n",
       "    u'checked': False,\n",
       "    u'childElementCount': 0,\n",
       "    u'className': u'hasDatepicker',\n",
       "    u'clientHeight': 22,\n",
       "    u'clientLeft': 2,\n",
       "    u'clientTop': 2,\n",
       "    u'clientWidth': 404,\n",
       "    u'contentEditable': u'inherit',\n",
       "    u'defaultChecked': False,\n",
       "    u'defaultValue': u'',\n",
       "    u'dir': u'',\n",
       "    u'dirName': u'',\n",
       "    u'disabled': False,\n",
       "    u'draggable': False,\n",
       "    u'formAction': u'http://localhost:8888/notebooks/repos/jp_proxy_widget/notebooks/proxy%20example.ipynb',\n",
       "    u'formEnctype': u'',\n",
       "    u'formMethod': u'',\n",
       "    u'formNoValidate': False,\n",
       "    u'formTarget': u'',\n",
       "    u'height': 0,\n",
       "    u'hidden': False,\n",
       "    u'id': u'dp000',\n",
       "    u'incremental': False,\n",
       "    u'indeterminate': False,\n",
       "    u'innerHTML': u'',\n",
       "    u'innerText': u'',\n",
       "    u'isConnected': True,\n",
       "    u'isContentEditable': False,\n",
       "    u'lang': u'',\n",
       "    u'localName': u'input',\n",
       "    u'max': u'',\n",
       "    u'maxLength': -1,\n",
       "    u'min': u'',\n",
       "    u'minLength': -1,\n",
       "    u'multiple': False,\n",
       "    u'name': u'',\n",
       "    u'namespaceURI': u'http://www.w3.org/1999/xhtml',\n",
       "    u'nodeName': u'INPUT',\n",
       "    u'nodeType': 1,\n",
       "    u'nonce': u'',\n",
       "    u'offsetHeight': 26,\n",
       "    u'offsetLeft': 0,\n",
       "    u'offsetTop': 0,\n",
       "    u'offsetWidth': 408,\n",
       "    u'outerHTML': u'<input type=\"text\" id=\"dp000\" class=\"hasDatepicker\" size=\"55\" style=\"position: relative; z-index: 10000;\">',\n",
       "    u'outerText': u'',\n",
       "    u'pattern': u'',\n",
       "    u'placeholder': u'',\n",
       "    u'readOnly': False,\n",
       "    u'required': False,\n",
       "    u'scrollHeight': 22,\n",
       "    u'scrollLeft': 0,\n",
       "    u'scrollTop': 0,\n",
       "    u'scrollWidth': 404,\n",
       "    u'selectionDirection': u'none',\n",
       "    u'selectionEnd': 10,\n",
       "    u'selectionStart': 10,\n",
       "    u'size': 55,\n",
       "    u'slot': u'',\n",
       "    u'spellcheck': True,\n",
       "    u'src': u'',\n",
       "    u'step': u'',\n",
       "    u'tabIndex': 0,\n",
       "    u'tagName': u'INPUT',\n",
       "    u'textContent': u'',\n",
       "    u'title': u'',\n",
       "    u'translate': True,\n",
       "    u'type': u'text',\n",
       "    u'useMap': u'',\n",
       "    u'validationMessage': u'',\n",
       "    u'value': u'11/08/2017',\n",
       "    u'valueAsNumber': None,\n",
       "    u'webkitdirectory': False,\n",
       "    u'width': 0,\n",
       "    u'willValidate': True},\n",
       "   u'handleObj': {u'guid': 468,\n",
       "    u'namespace': u'',\n",
       "    u'origType': u'change',\n",
       "    u'type': u'change'},\n",
       "   u'isDefaultPrevented': {},\n",
       "   u'isImmediatePropagationStopped': {},\n",
       "   u'isPropagationStopped': {},\n",
       "   u'isTrigger': 3,\n",
       "   u'jQuery20304476583901268463': True,\n",
       "   u'namespace': u'',\n",
       "   u'preventDefault': {},\n",
       "   u'stopImmediatePropagation': {},\n",
       "   u'stopPropagation': {},\n",
       "   u'target': {u'ATTRIBUTE_NODE': 2,\n",
       "    u'CDATA_SECTION_NODE': 4,\n",
       "    u'COMMENT_NODE': 8,\n",
       "    u'DOCUMENT_FRAGMENT_NODE': 11,\n",
       "    u'DOCUMENT_NODE': 9,\n",
       "    u'DOCUMENT_POSITION_CONTAINED_BY': 16,\n",
       "    u'DOCUMENT_POSITION_CONTAINS': 8,\n",
       "    u'DOCUMENT_POSITION_DISCONNECTED': 1,\n",
       "    u'DOCUMENT_POSITION_FOLLOWING': 4,\n",
       "    u'DOCUMENT_POSITION_IMPLEMENTATION_SPECIFIC': 32,\n",
       "    u'DOCUMENT_POSITION_PRECEDING': 2,\n",
       "    u'DOCUMENT_TYPE_NODE': 10,\n",
       "    u'ELEMENT_NODE': 1,\n",
       "    u'ENTITY_NODE': 6,\n",
       "    u'ENTITY_REFERENCE_NODE': 5,\n",
       "    u'NOTATION_NODE': 12,\n",
       "    u'PROCESSING_INSTRUCTION_NODE': 7,\n",
       "    u'TEXT_NODE': 3,\n",
       "    u'accept': u'',\n",
       "    u'accessKey': u'',\n",
       "    u'align': u'',\n",
       "    u'alt': u'',\n",
       "    u'autocapitalize': u'sentences',\n",
       "    u'autocomplete': u'',\n",
       "    u'autofocus': False,\n",
       "    u'baseURI': u'http://localhost:8888/notebooks/repos/jp_proxy_widget/notebooks/proxy%20example.ipynb',\n",
       "    u'checked': False,\n",
       "    u'childElementCount': 0,\n",
       "    u'className': u'hasDatepicker',\n",
       "    u'clientHeight': 22,\n",
       "    u'clientLeft': 2,\n",
       "    u'clientTop': 2,\n",
       "    u'clientWidth': 404,\n",
       "    u'contentEditable': u'inherit',\n",
       "    u'defaultChecked': False,\n",
       "    u'defaultValue': u'',\n",
       "    u'dir': u'',\n",
       "    u'dirName': u'',\n",
       "    u'disabled': False,\n",
       "    u'draggable': False,\n",
       "    u'formAction': u'http://localhost:8888/notebooks/repos/jp_proxy_widget/notebooks/proxy%20example.ipynb',\n",
       "    u'formEnctype': u'',\n",
       "    u'formMethod': u'',\n",
       "    u'formNoValidate': False,\n",
       "    u'formTarget': u'',\n",
       "    u'height': 0,\n",
       "    u'hidden': False,\n",
       "    u'id': u'dp000',\n",
       "    u'incremental': False,\n",
       "    u'indeterminate': False,\n",
       "    u'innerHTML': u'',\n",
       "    u'innerText': u'',\n",
       "    u'isConnected': True,\n",
       "    u'isContentEditable': False,\n",
       "    u'lang': u'',\n",
       "    u'localName': u'input',\n",
       "    u'max': u'',\n",
       "    u'maxLength': -1,\n",
       "    u'min': u'',\n",
       "    u'minLength': -1,\n",
       "    u'multiple': False,\n",
       "    u'name': u'',\n",
       "    u'namespaceURI': u'http://www.w3.org/1999/xhtml',\n",
       "    u'nodeName': u'INPUT',\n",
       "    u'nodeType': 1,\n",
       "    u'nonce': u'',\n",
       "    u'offsetHeight': 26,\n",
       "    u'offsetLeft': 0,\n",
       "    u'offsetTop': 0,\n",
       "    u'offsetWidth': 408,\n",
       "    u'outerHTML': u'<input type=\"text\" id=\"dp000\" class=\"hasDatepicker\" size=\"55\" style=\"position: relative; z-index: 10000;\">',\n",
       "    u'outerText': u'',\n",
       "    u'pattern': u'',\n",
       "    u'placeholder': u'',\n",
       "    u'readOnly': False,\n",
       "    u'required': False,\n",
       "    u'scrollHeight': 22,\n",
       "    u'scrollLeft': 0,\n",
       "    u'scrollTop': 0,\n",
       "    u'scrollWidth': 404,\n",
       "    u'selectionDirection': u'none',\n",
       "    u'selectionEnd': 10,\n",
       "    u'selectionStart': 10,\n",
       "    u'size': 55,\n",
       "    u'slot': u'',\n",
       "    u'spellcheck': True,\n",
       "    u'src': u'',\n",
       "    u'step': u'',\n",
       "    u'tabIndex': 0,\n",
       "    u'tagName': u'INPUT',\n",
       "    u'textContent': u'',\n",
       "    u'title': u'',\n",
       "    u'translate': True,\n",
       "    u'type': u'text',\n",
       "    u'useMap': u'',\n",
       "    u'validationMessage': u'',\n",
       "    u'value': u'11/08/2017',\n",
       "    u'valueAsNumber': None,\n",
       "    u'webkitdirectory': False,\n",
       "    u'width': 0,\n",
       "    u'willValidate': True},\n",
       "   u'timeStamp': 1509974558285,\n",
       "   u'type': u'change'}}]"
      ]
     },
     "execution_count": 13,
     "metadata": {},
     "output_type": "execute_result"
    }
   ],
   "source": [
    "arguments_list"
   ]
  },
  {
   "cell_type": "code",
   "execution_count": null,
   "metadata": {},
   "outputs": [],
   "source": []
  }
 ],
 "metadata": {
  "kernelspec": {
   "display_name": "Python 2",
   "language": "python",
   "name": "python2"
  },
  "language_info": {
   "codemirror_mode": {
    "name": "ipython",
    "version": 2
   },
   "file_extension": ".py",
   "mimetype": "text/x-python",
   "name": "python",
   "nbconvert_exporter": "python",
   "pygments_lexer": "ipython2",
   "version": "2.7.13"
  }
 },
 "nbformat": 4,
 "nbformat_minor": 2
}

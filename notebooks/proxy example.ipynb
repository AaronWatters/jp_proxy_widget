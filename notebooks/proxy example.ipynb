{
 "cells": [
  {
   "cell_type": "code",
   "execution_count": null,
   "metadata": {},
   "outputs": [],
   "source": [
    "import jp_proxy_widget"
   ]
  },
  {
   "cell_type": "code",
   "execution_count": null,
   "metadata": {},
   "outputs": [],
   "source": [
    "w = jp_proxy_widget.JSProxyWidget()"
   ]
  },
  {
   "cell_type": "code",
   "execution_count": null,
   "metadata": {},
   "outputs": [],
   "source": [
    "w.js_init(\"\"\"\n",
    "    element.html('<b id=\"my_dialog\">Hello from jQueryUI</b>').dialog();\n",
    "\"\"\")\n",
    "w"
   ]
  },
  {
   "cell_type": "code",
   "execution_count": null,
   "metadata": {},
   "outputs": [],
   "source": [
    "w = jp_proxy_widget.JSProxyWidget()\n",
    "\n",
    "click_data = []\n",
    "\n",
    "def clicker(count):\n",
    "    import time\n",
    "    click_data.append(repr(count) + \" clicked at \" + time.ctime())\n",
    "\n",
    "w.js_init(\"\"\"\n",
    "    element.html('<button>Click me!</button>');\n",
    "    clickcount = 0\n",
    "    element.click(function() {\n",
    "        clickcount += 1;\n",
    "        element.html('<button>Click ' + clickcount + '</button>');\n",
    "        clicker(clickcount);\n",
    "    });\n",
    "\"\"\", clicker=clicker)\n",
    "\n",
    "w"
   ]
  },
  {
   "cell_type": "code",
   "execution_count": null,
   "metadata": {},
   "outputs": [],
   "source": [
    "click_data"
   ]
  },
  {
   "cell_type": "code",
   "execution_count": null,
   "metadata": {},
   "outputs": [],
   "source": [
    "w = jp_proxy_widget.JSProxyWidget()\n",
    "\n",
    "click_data = []\n",
    "\n",
    "def clicker(*arguments):\n",
    "    import time\n",
    "    click_data.append(\"last clicked at \" + time.ctime())\n",
    "    element = w.element()\n",
    "    w(element.change_response(click_data[-1]))\n",
    "    \n",
    "request = \"Please click me!\"\n",
    "response = \"Thanks! \"\n",
    "\n",
    "w.js_init(\"\"\"\n",
    "    element.html('<button>' + request + '</button>');\n",
    "    clickcount = 0\n",
    "    element.click(function() {\n",
    "        clickcount += 1;\n",
    "        element.html('<button>' + response + \" \" + clickcount + '</button>');\n",
    "        clicker();\n",
    "    });\n",
    "    element.change_response = function(new_response) {\n",
    "        response = new_response;\n",
    "    }\n",
    "\"\"\", clicker=clicker, request=request, response=response)\n",
    "\n",
    "w"
   ]
  },
  {
   "cell_type": "code",
   "execution_count": null,
   "metadata": {},
   "outputs": [],
   "source": [
    "# adapted from\n",
    "# https://jqueryui.com/dialog/#modal-confirmation\n",
    "\n",
    "w = jp_proxy_widget.JSProxyWidget()\n",
    "\n",
    "class ItemHolderClass:\n",
    "    default_items = \"a sequence of very important words\".split()\n",
    "    def __init__(self):\n",
    "        self.items = self.default_items\n",
    "    def delete_all(self):\n",
    "        self.items = []\n",
    "    def restore(self):\n",
    "        self.items = \"a different bunch of less important words\".split()\n",
    "        \n",
    "items = ItemHolderClass()\n",
    "\n",
    "w.js_init(\"\"\"\n",
    "element.html(\"Are you sure you want to delete the items?\")\n",
    "element.dialog({\n",
    "      resizable: false,\n",
    "      height: \"auto\",\n",
    "      width: 400,\n",
    "      modal: true,\n",
    "      buttons: {\n",
    "        \"Delete all items\": function() {\n",
    "          delete_all();\n",
    "          $( this ).dialog( \"close\" );\n",
    "        },\n",
    "        Cancel: function() {\n",
    "          restore();\n",
    "          $( this ).dialog( \"close\" );\n",
    "        }\n",
    "      }\n",
    "    });\n",
    "\"\"\", delete_all=items.delete_all, restore=items.restore)\n",
    "\n",
    "w"
   ]
  },
  {
   "cell_type": "code",
   "execution_count": null,
   "metadata": {},
   "outputs": [],
   "source": [
    "# adding a dialog to a composite widget\n",
    "import ipywidgets as widgets"
   ]
  },
  {
   "cell_type": "code",
   "execution_count": null,
   "metadata": {},
   "outputs": [],
   "source": [
    "class ItemsLister:\n",
    "    \n",
    "    default_items = \"a sequence of very important words\".split()\n",
    "    def __init__(self):\n",
    "        self.items = self.default_items\n",
    "        \n",
    "    def delete_all(self):\n",
    "        self.items = []\n",
    "    def restore(self):\n",
    "        self.items = \"a different bunch of less important words\".split()"
   ]
  },
  {
   "cell_type": "code",
   "execution_count": null,
   "metadata": {},
   "outputs": [],
   "source": [
    "dir(six)"
   ]
  },
  {
   "cell_type": "code",
   "execution_count": null,
   "metadata": {},
   "outputs": [],
   "source": [
    "six.StringIO"
   ]
  },
  {
   "cell_type": "code",
   "execution_count": null,
   "metadata": {},
   "outputs": [],
   "source": []
  }
 ],
 "metadata": {
  "kernelspec": {
   "display_name": "Python 2",
   "language": "python",
   "name": "python2"
  },
  "language_info": {
   "codemirror_mode": {
    "name": "ipython",
    "version": 2
   },
   "file_extension": ".py",
   "mimetype": "text/x-python",
   "name": "python",
   "nbconvert_exporter": "python",
   "pygments_lexer": "ipython2",
   "version": "2.7.13"
  }
 },
 "nbformat": 4,
 "nbformat_minor": 2
}

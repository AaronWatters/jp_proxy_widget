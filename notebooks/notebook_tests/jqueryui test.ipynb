{
 "cells": [
  {
   "cell_type": "code",
   "execution_count": null,
   "metadata": {
    "collapsed": true,
    "deletable": true,
    "editable": true
   },
   "outputs": [],
   "source": []
  },
  {
   "cell_type": "code",
   "execution_count": null,
   "metadata": {
    "collapsed": true,
    "deletable": true,
    "editable": true
   },
   "outputs": [],
   "source": [
    "import notebook_test_helpers\n",
    "\n",
    "validators = notebook_test_helpers.ValidationSuite()"
   ]
  },
  {
   "cell_type": "code",
   "execution_count": null,
   "metadata": {
    "collapsed": true,
    "deletable": true,
    "editable": true
   },
   "outputs": [],
   "source": [
    "import jp_proxy_widget\n",
    "from jp_proxy_widget import js_context\n",
    "\n",
    "class JQueryUIDialogTestWidget(jp_proxy_widget.JSProxyWidget):\n",
    "    \n",
    "    \"A jQueryUI dialog with custom styling that reports back to Python when it is closed.\"\n",
    "    \n",
    "    def __init__(self, *pargs, **kwargs):\n",
    "        super(JQueryUIDialogTestWidget, self).__init__(*pargs, **kwargs)\n",
    "        self.is_open = \"unknown\"\n",
    "        self.check_jquery()\n",
    "        random_style = \"\"\"\n",
    "        .dialog-random-style-for-testing2 {\n",
    "            color: rgb(216, 50, 61);\n",
    "            background-color: rgb(200, 218, 61);\n",
    "        }\n",
    "        \"\"\"\n",
    "        self.load_css_text(\"dialog-random-stylesheet\", random_style)\n",
    "\n",
    "        self.js_init(\"\"\"\n",
    "            // Add dialog as a child to the widget element.\n",
    "            element.empty();\n",
    "            var dialog = $('<div><b class=\"dialog-random-style-for-testing2\">Hello from jQueryUI</b></div>')\n",
    "            .appendTo(element);\n",
    "\n",
    "            // Add some callables to the element accessible from Python.\n",
    "            element.report_status = function() {\n",
    "                // Report whether the dialog is now open back to Python.\n",
    "                is_open_callback(dialog.dialog(\"isOpen\"))\n",
    "            };\n",
    "\n",
    "            element.close = function () {\n",
    "                // Close the dialog.\n",
    "                dialog.dialog(\"close\");\n",
    "            };\n",
    "            \n",
    "            // Open the dialog and have it report its open status when it's closed.\n",
    "            dialog.dialog({close: element.report_status});\n",
    "            \n",
    "            element.report_status();\n",
    "        \"\"\", is_open_callback=self.is_open_callback)\n",
    "        \n",
    "    def is_open_callback(self, value):\n",
    "        \"Python callback which remembers whether the dialog reported itself open or not.\"\n",
    "        self.is_open = value\n",
    "            \n"
   ]
  },
  {
   "cell_type": "code",
   "execution_count": null,
   "metadata": {
    "collapsed": false,
    "deletable": true,
    "editable": true
   },
   "outputs": [],
   "source": [
    "# Create and display the dialog.\n",
    "test_dialog = JQueryUIDialogTestWidget()\n",
    "test_dialog"
   ]
  },
  {
   "cell_type": "code",
   "execution_count": null,
   "metadata": {
    "collapsed": false,
    "deletable": true,
    "editable": true
   },
   "outputs": [],
   "source": [
    "# NOTE: Click here to focus on the cell (otherwise \"enter\" with the dialog focused will close the dialog).\n",
    "test_dialog.is_open"
   ]
  },
  {
   "cell_type": "code",
   "execution_count": null,
   "metadata": {
    "collapsed": false,
    "deletable": true,
    "editable": true
   },
   "outputs": [],
   "source": [
    "# Close the dialog by calling the element.close() method.\n",
    "test_dialog.element.close()"
   ]
  },
  {
   "cell_type": "code",
   "execution_count": null,
   "metadata": {
    "collapsed": true,
    "deletable": true,
    "editable": true
   },
   "outputs": [],
   "source": [
    "def validate_test_dialog():\n",
    "    assert test_dialog.is_open == False\n",
    "    print('test_dialog apparently ok!')\n",
    "\n",
    "validators.add_validation(test_dialog, validate_test_dialog)"
   ]
  },
  {
   "cell_type": "code",
   "execution_count": null,
   "metadata": {
    "collapsed": true,
    "deletable": true,
    "editable": true
   },
   "outputs": [],
   "source": [
    "test_slider_css = \"\"\"\n",
    "  #test-slider-custom-handle {\n",
    "    width: 3em;\n",
    "    height: 1.6em;\n",
    "    top: 50%;\n",
    "    margin-top: -.8em;\n",
    "    text-align: center;\n",
    "    line-height: 1.6em;\n",
    "  }\n",
    "  #test-slider-container {\n",
    "    width: 50em;\n",
    "    height: 10em;\n",
    "  }\n",
    "\"\"\"\n",
    "\n",
    "class JQueryUISliderTestWidget(jp_proxy_widget.JSProxyWidget):\n",
    "    \n",
    "    \"A slider adapted from http://jqueryui.com/slider/#custom-handle\"\n",
    "    \n",
    "    def __init__(self, *pargs, **kwargs):\n",
    "        super(JQueryUISliderTestWidget, self).__init__(*pargs, **kwargs)\n",
    "        self.slider_value = \"unknown\"\n",
    "        \n",
    "        self.load_css_text(\"test-slider-stylesheet\", test_slider_css)\n",
    "\n",
    "        self.js_init(\"\"\"\n",
    "            element.html('<div class=\"test-slider-container\"></div>');\n",
    "            var slider_div = $(\"<div></div>\").appendTo(element);\n",
    "            var handle = $('<div class=\"test-slider-custom-handle ui-slider-handle\"></div>')\n",
    "            .width(\"30px\")\n",
    "            .appendTo(slider_div);\n",
    "            slider_div.slider({\n",
    "              min: -50,\n",
    "              max: 65,\n",
    "              value: 43,\n",
    "              create: function() {\n",
    "                //handle.text( element.slider( \"value\" ) ); // causes error\n",
    "              },\n",
    "              slide: function( event, ui ) {\n",
    "                handle.text( ui.value );\n",
    "              },\n",
    "              change: function( event, ui ) {\n",
    "                handle.text( ui.value );\n",
    "                report_change( ui.value );\n",
    "              }\n",
    "            });\n",
    "            element.height(\"50px\").width(\"300px\").css(\"background-color\", \"cornsilk\");\n",
    "            slider_div.width(\"250px\");\n",
    "            slider_div.position({\n",
    "              my: \"center\",\n",
    "              at: \"center\",\n",
    "              of: element\n",
    "            });\n",
    "            element.set_value = function(value) {\n",
    "                slider_div.slider(\"value\", value);\n",
    "            };\n",
    "            element.set_value(44);\n",
    "        \"\"\", report_change=self.report_change)\n",
    "        \n",
    "    def report_change(self, value):\n",
    "        self.slider_value = value\n",
    "        "
   ]
  },
  {
   "cell_type": "code",
   "execution_count": null,
   "metadata": {
    "collapsed": false,
    "deletable": true,
    "editable": true
   },
   "outputs": [],
   "source": [
    "slider_widget = JQueryUISliderTestWidget()\n",
    "slider_widget"
   ]
  },
  {
   "cell_type": "code",
   "execution_count": null,
   "metadata": {
    "collapsed": false,
    "deletable": true,
    "editable": true
   },
   "outputs": [],
   "source": [
    "slider_widget.slider_value\n",
    "#slider_widget.print_status()"
   ]
  },
  {
   "cell_type": "code",
   "execution_count": null,
   "metadata": {
    "collapsed": true,
    "deletable": true,
    "editable": true
   },
   "outputs": [],
   "source": [
    "slider_widget.element.set_value(-15)\n",
    "\n",
    "def validate_slider_widget():\n",
    "    assert slider_widget.slider_value == -15\n",
    "    print('slider_widget apparently ok!')\n",
    "\n",
    "validators.add_validation(slider_widget, validate_slider_widget)"
   ]
  },
  {
   "cell_type": "code",
   "execution_count": null,
   "metadata": {
    "collapsed": true,
    "deletable": true,
    "editable": true
   },
   "outputs": [],
   "source": []
  },
  {
   "cell_type": "code",
   "execution_count": null,
   "metadata": {
    "collapsed": false,
    "deletable": true,
    "editable": true
   },
   "outputs": [],
   "source": [
    "# This should be the last cell\n",
    "validators.run_all_in_widget()"
   ]
  }
 ],
 "metadata": {
  "kernelspec": {
   "display_name": "Python 3",
   "language": "python",
   "name": "python3"
  },
  "language_info": {
   "codemirror_mode": {
    "name": "ipython",
    "version": 3
   },
   "file_extension": ".py",
   "mimetype": "text/x-python",
   "name": "python",
   "nbconvert_exporter": "python",
   "pygments_lexer": "ipython3",
   "version": "3.6.3"
  }
 },
 "nbformat": 4,
 "nbformat_minor": 2
}

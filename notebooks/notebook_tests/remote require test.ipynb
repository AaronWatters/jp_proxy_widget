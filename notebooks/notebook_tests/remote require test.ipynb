{
 "cells": [
  {
   "cell_type": "markdown",
   "metadata": {
    "deletable": true,
    "editable": true
   },
   "source": [
    "# remote require test\n",
    "\n",
    "Check that invokations like\n",
    "\n",
    "```javascript\n",
    "require.config({\n",
    "  paths: {\n",
    "      d3: '//cdnjs.cloudflare.com/ajax/libs/d3/3.4.8/d3.min'\n",
    "  }\n",
    "});\n",
    "```\n",
    "Work as expected."
   ]
  },
  {
   "cell_type": "code",
   "execution_count": null,
   "metadata": {
    "collapsed": false,
    "deletable": true,
    "editable": true
   },
   "outputs": [],
   "source": [
    "# based on https://codepen.io/SitePoint/pen/wWJXWa\n",
    "\n",
    "import jp_proxy_widget\n",
    "\n",
    "class D3BarWidget(jp_proxy_widget.JSProxyWidget):\n",
    "    \n",
    "    is_ready = False\n",
    "    \n",
    "    def __init__(self, *pargs, **kwargs):\n",
    "        super(D3BarWidget, self).__init__(*pargs, **kwargs)\n",
    "        self.uses_require(self.make_barchart)\n",
    "        \n",
    "    def make_barchart(self):\n",
    "        # Initialize the widget using they asynchronously loaded \"saveAs\" module\n",
    "        self.js_init(\"\"\"\n",
    "        element.empty();\n",
    "        // make a div and put dummy text in it for now\n",
    "        var target = $(\"<div/>\").appendTo(element);\n",
    "        // configure d3\n",
    "        element.requirejs.config({\n",
    "          paths: {\n",
    "              d3: '//cdnjs.cloudflare.com/ajax/libs/d3/3.4.8/d3.min'\n",
    "          }\n",
    "        });\n",
    "        // Use require to asynchronously load the \"saveAs\" module.\n",
    "        element.requirejs([\"d3\"], function(d3) {\n",
    "            d3.select(target[0])\n",
    "              .selectAll(\"div\")\n",
    "              .data([4, 8, 15, 16, 23, 42])\n",
    "              .enter()\n",
    "              .append(\"div\")\n",
    "              .style(\"display\", \"inline-block\")\n",
    "              .style(\"background\", \"#4285f4\")\n",
    "              .style(\"width\", \"20px\")\n",
    "              .style(\"margin-right\", \"3px\")\n",
    "              .style(\"height\", (d)=> d + \"px\");\n",
    "            ready();\n",
    "        });\n",
    "        \"\"\", ready=self.ready)\n",
    "        \n",
    "    def ready(self):\n",
    "        self.is_ready = True\n",
    "        \n",
    "\n",
    "d3bar = D3BarWidget()\n",
    "d3bar"
   ]
  },
  {
   "cell_type": "code",
   "execution_count": null,
   "metadata": {
    "collapsed": true,
    "deletable": true,
    "editable": true
   },
   "outputs": [],
   "source": [
    "import notebook_test_helpers\n",
    "\n",
    "validators = notebook_test_helpers.ValidationSuite()"
   ]
  },
  {
   "cell_type": "code",
   "execution_count": null,
   "metadata": {
    "collapsed": false,
    "deletable": true,
    "editable": true
   },
   "outputs": [],
   "source": [
    "def validate_d3bar():\n",
    "    assert d3bar.is_ready\n",
    "    print (\"d3bar seems good!\")\n",
    "    \n",
    "validators.add_validation(d3bar, validate_d3bar)\n",
    "\n",
    "validators.run_all_in_widget()"
   ]
  },
  {
   "cell_type": "code",
   "execution_count": null,
   "metadata": {
    "collapsed": true
   },
   "outputs": [],
   "source": []
  }
 ],
 "metadata": {
  "kernelspec": {
   "display_name": "Python 3",
   "language": "python",
   "name": "python3"
  },
  "language_info": {
   "codemirror_mode": {
    "name": "ipython",
    "version": 3
   },
   "file_extension": ".py",
   "mimetype": "text/x-python",
   "name": "python",
   "nbconvert_exporter": "python",
   "pygments_lexer": "ipython3",
   "version": "3.6.3"
  }
 },
 "nbformat": 4,
 "nbformat_minor": 2
}

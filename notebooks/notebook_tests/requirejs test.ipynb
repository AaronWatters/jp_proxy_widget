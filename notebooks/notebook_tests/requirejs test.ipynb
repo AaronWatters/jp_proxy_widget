{
 "cells": [
  {
   "cell_type": "markdown",
   "metadata": {
    "deletable": true,
    "editable": true
   },
   "source": [
    "# requireJS -- load a define/require style javascript module\n",
    "\n",
    "We want to load the following module:"
   ]
  },
  {
   "cell_type": "code",
   "execution_count": null,
   "metadata": {
    "collapsed": true,
    "deletable": true,
    "editable": true
   },
   "outputs": [],
   "source": [
    "import jp_proxy_widget\n",
    "from jp_proxy_widget import js_context"
   ]
  },
  {
   "cell_type": "code",
   "execution_count": null,
   "metadata": {
    "collapsed": false,
    "deletable": true,
    "editable": true
   },
   "outputs": [],
   "source": [
    "require_fn=\"js/simple_define.js\"\n",
    "print(js_context.get_text_from_file_name(require_fn))"
   ]
  },
  {
   "cell_type": "code",
   "execution_count": null,
   "metadata": {
    "collapsed": true,
    "deletable": true,
    "editable": true
   },
   "outputs": [],
   "source": [
    "requireJS = jp_proxy_widget.JSProxyWidget()"
   ]
  },
  {
   "cell_type": "code",
   "execution_count": null,
   "metadata": {
    "collapsed": true,
    "deletable": true,
    "editable": true
   },
   "outputs": [],
   "source": [
    "# callback for storing the styled element color\n",
    "requireJSinfo = {}\n",
    "\n",
    "def require_answer_callback(answer):\n",
    "    requireJSinfo[\"answer\"] = answer\n",
    "    \n",
    "module_identifier = \"three_primes\"\n",
    "\n",
    "requireJS.require_js(module_identifier, require_fn)\n",
    "\n",
    "# initialize the element using code that requires the loaded module\n",
    "requireJS.js_init(\"\"\"\n",
    "\n",
    "console.log(\"js init calling requirejs \" + module_identifier);\n",
    "\n",
    "element.html(\"<em>loading \" + module_identifier + \"</em>\")\n",
    "\n",
    "element.requirejs([module_identifier], function(module_value) {\n",
    "    console.log(\"js init using value for \" + module_identifier);\n",
    "\n",
    "    element.html('<b>First three primes: ' + module_value.first_3_primes + '</b>')\n",
    "\n",
    "    require_answer_callback(module_value);\n",
    "});\n",
    "\n",
    "\"\"\", require_answer_callback=require_answer_callback, module_identifier=module_identifier)\n",
    "    \n",
    "#requireJS.uses_require(after_load)\n",
    "#after_load()\n",
    "                      \n",
    "def validate_requireJS():\n",
    "    expect = {\"first_3_primes\": [2,3,5]}\n",
    "    assert expect == requireJSinfo[\"answer\"], repr((expect, requireJSinfo))\n",
    "    assert requireJS._require_checked\n",
    "    print (\"Loaded requirejs value is correct!\")"
   ]
  },
  {
   "cell_type": "code",
   "execution_count": null,
   "metadata": {
    "collapsed": true,
    "deletable": true,
    "editable": true
   },
   "outputs": [],
   "source": [
    "#requireJS.commands_awaiting_render"
   ]
  },
  {
   "cell_type": "code",
   "execution_count": null,
   "metadata": {
    "collapsed": false,
    "deletable": true,
    "editable": true
   },
   "outputs": [],
   "source": [
    "requireJS"
   ]
  },
  {
   "cell_type": "code",
   "execution_count": null,
   "metadata": {
    "collapsed": true,
    "deletable": true,
    "editable": true
   },
   "outputs": [],
   "source": [
    "import notebook_test_helpers\n",
    "\n",
    "validators = notebook_test_helpers.ValidationSuite()\n",
    "validators.add_validation(requireJS, validate_requireJS)"
   ]
  },
  {
   "cell_type": "markdown",
   "metadata": {
    "deletable": true,
    "editable": true
   },
   "source": [
    "# A more realistic example `FileSaver.js`\n",
    "\n",
    "# WARNING: Running the widget will cause the browser to download a small text file to your downloads area\n"
   ]
  },
  {
   "cell_type": "code",
   "execution_count": null,
   "metadata": {
    "collapsed": false,
    "deletable": true,
    "editable": true
   },
   "outputs": [],
   "source": [
    "class SaverWidget(jp_proxy_widget.JSProxyWidget):\n",
    "    \n",
    "    def __init__(self, *pargs, **kwargs):\n",
    "        super(SaverWidget, self).__init__(*pargs, **kwargs)\n",
    "        # Wiring: set up javascript callables and python callbacks.\n",
    "        self.require_js(\"saveAs\", \"js/FileSaver.js\")\n",
    "        self.js_init(\"\"\"\n",
    "        debugger;\n",
    "        element.html(\"Requiring saveAs...\");\n",
    "\n",
    "        element.requirejs([\"saveAs\"], function(saveAs) {\n",
    "            element.html(\"saveAs = \" + saveAs);\n",
    "            element.download = function(text, name, type) {\n",
    "                if (!type) {\n",
    "                    type=\"text/plain;charset=utf-8\";\n",
    "                }\n",
    "                var blob = new Blob([text], {type: type});\n",
    "                element.html(\"Now saving \" + text.length + \" as \" + name + \" with type \" + type);\n",
    "                saveAs(blob, name);\n",
    "                confirm(text, name, type);\n",
    "            };\n",
    "            ready();\n",
    "        });\n",
    "        \"\"\", confirm=self.confirm, ready=self.ready)\n",
    "    \n",
    "    is_ready = False\n",
    "        \n",
    "    def ready(self):\n",
    "        \"call this when the widget has fully initialized.  Download a very small text file.\"\n",
    "        self.is_ready = True\n",
    "        saverWidget.element.download(\"Not very interesting text file content.\", \"Save_as_test.txt\")\n",
    "\n",
    "    confirmed = None\n",
    "    \n",
    "    def confirm(self, *args):\n",
    "        self.confirmed = args\n",
    "\n",
    "saverWidget = SaverWidget()\n",
    "\n",
    "def ready():\n",
    "    \"call this when the widget hsa fully initialized.  Download a very small text file.\"\n",
    "    saverWidget.element.download(\"Not very interesting text file content.\", \"Save_as_test.txt\")\n",
    "\n",
    "saverWidget"
   ]
  },
  {
   "cell_type": "code",
   "execution_count": null,
   "metadata": {
    "collapsed": false,
    "deletable": true,
    "editable": true
   },
   "outputs": [],
   "source": [
    "expected_confirmation = [\n",
    " 'Not very interesting text file content.',\n",
    " 'Save_as_test.txt',\n",
    " 'text/plain;charset=utf-8']\n",
    "\n",
    "def validateSaver():\n",
    "    assert saverWidget.is_ready\n",
    "    assert saverWidget.confirmed is not None, \"confirmation hasn't happened yet.\"\n",
    "    assert list(saverWidget.confirmed) == list(expected_confirmation)\n",
    "    print (\"file saver apparently worked!\")\n",
    "\n",
    "validators.add_validation(saverWidget, validateSaver)"
   ]
  },
  {
   "cell_type": "code",
   "execution_count": null,
   "metadata": {
    "collapsed": false,
    "deletable": true,
    "editable": true
   },
   "outputs": [],
   "source": [
    "validators.run_all_in_widget()"
   ]
  },
  {
   "cell_type": "code",
   "execution_count": null,
   "metadata": {
    "collapsed": true
   },
   "outputs": [],
   "source": []
  }
 ],
 "metadata": {
  "kernelspec": {
   "display_name": "Python 3",
   "language": "python",
   "name": "python3"
  },
  "language_info": {
   "codemirror_mode": {
    "name": "ipython",
    "version": 3
   },
   "file_extension": ".py",
   "mimetype": "text/x-python",
   "name": "python",
   "nbconvert_exporter": "python",
   "pygments_lexer": "ipython3",
   "version": "3.6.3"
  }
 },
 "nbformat": 4,
 "nbformat_minor": 2
}

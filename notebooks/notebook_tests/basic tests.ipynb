{
 "cells": [
  {
   "cell_type": "markdown",
   "metadata": {
    "deletable": true,
    "editable": true
   },
   "source": [
    "# Basic functionality tests.\n",
    "\n",
    "If the notebook cells complete with no exception the tests have passed.\n",
    "\n",
    "The tests must be run in the full `jupyter notebook` or `jupyter lab` environment.\n",
    "\n",
    "*Note:* I couldn't figure out to make the validation tests at run correctly \n",
    "at the top level using `Run all`\n",
    "because the widgets initialize after later cells have executed, causing spurious\n",
    "failures.  Consequently the automated validation steps involve an extra round trip using\n",
    "a widget at the bottom of the notebook which is guaranteed to render last."
   ]
  },
  {
   "cell_type": "code",
   "execution_count": null,
   "metadata": {
    "collapsed": true,
    "deletable": true,
    "editable": true
   },
   "outputs": [],
   "source": [
    "#widget_validator_list = []\n",
    "\n",
    "import notebook_test_helpers\n",
    "\n",
    "validators = notebook_test_helpers.ValidationSuite()\n",
    "\n",
    "import time\n",
    "\n",
    "class PythonClass:\n",
    "    \n",
    "    class_attribute = \"initial class attribute value\"\n",
    "    \n",
    "    def __init__(self):\n",
    "        self.set_instance_attribute(\"initial instance attribute value\")\n",
    "        \n",
    "    def set_instance_attribute(self, value):\n",
    "        self.instance_attribute = value\n",
    "        \n",
    "    @classmethod\n",
    "    def set_class_attribute(cls, value):\n",
    "        cls.class_attribute = value"
   ]
  },
  {
   "cell_type": "code",
   "execution_count": null,
   "metadata": {
    "collapsed": true,
    "deletable": true,
    "editable": true
   },
   "outputs": [],
   "source": [
    "python_instance = PythonClass()\n",
    "\n",
    "def python_function(value1, value2):\n",
    "    python_instance.new_attribute = \"value1=%s and value2=%s\" % (value1, value2)"
   ]
  },
  {
   "cell_type": "markdown",
   "metadata": {},
   "source": [
    "# pong: test that a proxy widget can call back to Python"
   ]
  },
  {
   "cell_type": "code",
   "execution_count": null,
   "metadata": {
    "collapsed": true,
    "deletable": true,
    "editable": true
   },
   "outputs": [],
   "source": [
    "import jp_proxy_widget"
   ]
  },
  {
   "cell_type": "code",
   "execution_count": null,
   "metadata": {
    "collapsed": true,
    "deletable": true,
    "editable": true
   },
   "outputs": [],
   "source": [
    "pong = jp_proxy_widget.JSProxyWidget()"
   ]
  },
  {
   "cell_type": "code",
   "execution_count": null,
   "metadata": {
    "collapsed": false,
    "deletable": true,
    "editable": true
   },
   "outputs": [],
   "source": [
    "def validate_pong():\n",
    "    # check that the Python callbacks were called.\n",
    "    assert python_instance.instance_attribute == \"instance\"\n",
    "    assert PythonClass.class_attribute == \"class\"\n",
    "    assert python_instance.new_attribute == 'value1=1 and value2=3'\n",
    "    assert pong.error_msg == 'No error'\n",
    "    print (\"pong says\", pong.error_msg)\n",
    "    print (\"Pong callback test succeeded!\")\n",
    "\n",
    "pong.js_init(\"\"\"\n",
    "//debugger;\n",
    "instance_method(\"instance\");\n",
    "class_method(\"class\");\n",
    "python_function(1, 3);\n",
    "element.html(\"<b>Callback test widget: nothing interesting to see here</b>\")\n",
    "//validate()\n",
    "\"\"\", \n",
    "             instance_method=python_instance.set_instance_attribute,\n",
    "             class_method=PythonClass.set_class_attribute,\n",
    "             python_function=python_function,\n",
    "             #validate=validate_pong\n",
    "            )\n",
    "\n",
    "#widget_validator_list.append([pong, validate_pong])\n",
    "validators.add_validation(pong, validate_pong)\n",
    "\n",
    "#pong.debugging_display()\n",
    "pong"
   ]
  },
  {
   "cell_type": "code",
   "execution_count": null,
   "metadata": {
    "collapsed": false,
    "deletable": true,
    "editable": true
   },
   "outputs": [],
   "source": [
    "\n",
    "# set the mainloop check to True if running cells one at a time\n",
    "mainloop_check = False\n",
    "\n",
    "if mainloop_check:\n",
    "    # At this time this fails on \"run all\"\n",
    "    validate_pong()"
   ]
  },
  {
   "cell_type": "markdown",
   "metadata": {},
   "source": [
    "# pingpong: test that Python can call in to a widget\n",
    "\n",
    "... use a widget callback widget to pass the value back"
   ]
  },
  {
   "cell_type": "code",
   "execution_count": null,
   "metadata": {
    "collapsed": false,
    "deletable": true,
    "editable": true
   },
   "outputs": [],
   "source": [
    "pingpong_list = \"just some strings\".split()\n",
    "\n",
    "def pingpong_python_fn(argument1, argument2):\n",
    "    print(\"called pingpong_python_fn\") # this print goes nowhere?\n",
    "    pingpong_list[:] = [argument1, argument2]\n",
    "\n",
    "def validate_pingpong():\n",
    "    # check that the callback got the right values\n",
    "    assert pingpong_list == [\"testing\", 123]\n",
    "    print (\"ping pong test callback got \", pingpong_list)\n",
    "    print (\"ping pong test succeeded!\")\n",
    "    \n",
    "pingpong = jp_proxy_widget.JSProxyWidget()\n",
    "pingpong.js_init(\"\"\"\n",
    "element.html(\"<em>Ping pong test -- no call yet.</em>\")\n",
    "element.call_in_to_the_widget = function (argument1, argument2) {\n",
    "    element.html(\"<b> Call in sent \" + argument1 + \" and \" + argument2 + \"</b>\")\n",
    "    call_back_to_python(argument1, argument2);\n",
    "}\n",
    "element.validate = validate;\n",
    "\"\"\", call_back_to_python=pingpong_python_fn, validate=validate_pingpong)\n",
    "\n",
    "#widget_validator_list.append([pingpong, validate_pingpong])\n",
    "validators.add_validation(pingpong, validate_pingpong)\n",
    "\n",
    "#pingpong.debugging_display()\n",
    "pingpong"
   ]
  },
  {
   "cell_type": "code",
   "execution_count": null,
   "metadata": {
    "collapsed": true
   },
   "outputs": [],
   "source": [
    "# call in to javascript\n",
    "pingpong.element.call_in_to_the_widget(\"testing\", 123)\n",
    "# call in to javascript and back to python to validate\n",
    "pingpong.element.validate()\n",
    "\n",
    "if mainloop_check:\n",
    "    validate_pingpong()\n",
    "    "
   ]
  },
  {
   "cell_type": "markdown",
   "metadata": {},
   "source": [
    "# roundtrip: datatype round trip\n",
    "\n",
    "Test that values can be passed in to the proxy widget and back out again."
   ]
  },
  {
   "cell_type": "code",
   "execution_count": null,
   "metadata": {
    "collapsed": false
   },
   "outputs": [],
   "source": [
    "binary = bytearray(b\"\\x12\\xff binary bytes\")\n",
    "string_value = \"just a string\"\n",
    "int_value = -123\n",
    "float_value = 45.6\n",
    "json_dictionary = {\"keys\": None, \"must\": 321, \"be\": [6, 12], \"strings\": \"values\", \"can\": [\"be\", \"any json\"]}\n",
    "list_value = [9, string_value, json_dictionary]\n",
    "\n",
    "roundtrip_got_values = []\n",
    "\n",
    "from jp_proxy_widget import hex_codec\n",
    "\n",
    "def get_values_back(binary, string_value, int_value, float_value, json_dictionary, list_value):\n",
    "    # NOTE: binary values must be converted explicitly from hex string encoding!\n",
    "    binary = hex_codec.hex_to_bytearray(binary)\n",
    "    roundtrip_got_values[:] = [binary, string_value, int_value, float_value, json_dictionary, list_value]\n",
    "\n",
    "roundtrip_names = \"binary string_value int_value float_value json_dictionary list_value\".split()\n",
    "\n",
    "def validate_roundtrip():\n",
    "    #assert roundtrip_got_values == [string_value, int_value, float_value, json_dictionary, list_value]\n",
    "    expected_values = [binary, string_value, int_value, float_value, json_dictionary, list_value]\n",
    "    assert len(expected_values) == len(roundtrip_got_values)\n",
    "    for (name, got, expected) in zip(roundtrip_names, roundtrip_got_values, expected_values):\n",
    "        assert got == expected, \"values don't match: \" + repr((name, got, expected))\n",
    "    print (\"roundtrip values match!\")\n",
    "    \n",
    "roundtrip = jp_proxy_widget.JSProxyWidget()\n",
    "roundtrip.js_init(r\"\"\"\n",
    "element.all_values = [binary, string_value, int_value, float_value, json_dictionary, list_value];\n",
    "html = [\"<pre> Binary values sent as bytearrays appear in Javascript as Uint8Arrays\"]\n",
    "for (var i=0; i<names.length; i++) {\n",
    "    html.push(names[i]);\n",
    "    var v = element.all_values[i];\n",
    "    if (v instanceof Uint8Array) {\n",
    "        html.push(\"    Uint8Array\")\n",
    "    } else {\n",
    "        html.push(\"    type: \" + (typeof v))\n",
    "    }\n",
    "    html.push(\"    value: \" + v);\n",
    "}\n",
    "html.push(\"</pre>\");\n",
    "element.html(html.join(\"\\n\"));\n",
    "\n",
    "// send the values back\n",
    "callback(binary, string_value, int_value, float_value, json_dictionary, list_value);\n",
    "\"\"\",\n",
    "                 binary=binary,\n",
    "                 string_value=string_value,\n",
    "                 int_value=int_value,\n",
    "                 float_value=float_value,\n",
    "                 json_dictionary=json_dictionary,\n",
    "                 list_value=list_value,\n",
    "                 names=roundtrip_names,\n",
    "                 callback=get_values_back,\n",
    "                 # NOTE: must up the callable level!\n",
    "                 callable_level=4\n",
    "                )\n",
    "\n",
    "roundtrip"
   ]
  },
  {
   "cell_type": "code",
   "execution_count": null,
   "metadata": {
    "collapsed": false
   },
   "outputs": [],
   "source": [
    "validators.add_validation(roundtrip, validate_roundtrip)\n",
    "\n",
    "if mainloop_check:\n",
    "    validate_roundtrip()"
   ]
  },
  {
   "cell_type": "markdown",
   "metadata": {},
   "source": [
    "# loadCSS -- test load of simple CSS file.\n",
    "\n",
    "We want to load this css file"
   ]
  },
  {
   "cell_type": "code",
   "execution_count": null,
   "metadata": {
    "collapsed": false,
    "deletable": true,
    "editable": true
   },
   "outputs": [],
   "source": [
    "from jp_proxy_widget import js_context\n",
    "style_fn=\"js/simple.css\"\n",
    "print(js_context.get_text_from_file_name(style_fn))"
   ]
  },
  {
   "cell_type": "code",
   "execution_count": null,
   "metadata": {
    "collapsed": false,
    "deletable": true,
    "editable": true
   },
   "outputs": [],
   "source": [
    "loadCSS = jp_proxy_widget.JSProxyWidget()\n",
    "\n",
    "# load the file\n",
    "loadCSS.load_css(style_fn)\n",
    "\n",
    "# callback for storing the styled element color\n",
    "loadCSSstyle = {}\n",
    "\n",
    "def color_callback(color):\n",
    "    loadCSSstyle[\"color\"] = color\n",
    "\n",
    "# initialize the element using the style and callback to report the color.\n",
    "loadCSS.js_init(\"\"\"\n",
    "element.html('<em class=\"random-style-for-testing\" id=\"loadCSSelement\">Styled widget element.</em>')\n",
    "\n",
    "var e = document.getElementById(\"loadCSSelement\");\n",
    "var style = window.getComputedStyle(e);\n",
    "color_callback(style[\"color\"]);\n",
    "\"\"\", color_callback=color_callback)\n",
    "\n",
    "def validate_loadCSS():\n",
    "    expect = 'rgb(216, 50, 61)'\n",
    "    assert expect == loadCSSstyle[\"color\"], repr((expect, loadCSSstyle))\n",
    "    print (\"Loaded CSS color is correct!\")\n",
    "\n",
    "loadCSS"
   ]
  },
  {
   "cell_type": "code",
   "execution_count": null,
   "metadata": {
    "collapsed": false,
    "deletable": true,
    "editable": true
   },
   "outputs": [],
   "source": [
    "validators.add_validation(loadCSS, validate_loadCSS)\n",
    "\n",
    "if mainloop_check:\n",
    "    validate_loadCSS()\n",
    "    "
   ]
  },
  {
   "cell_type": "markdown",
   "metadata": {
    "deletable": true,
    "editable": true
   },
   "source": [
    "# loadJS -- load a javascript file (once only per interpreter)\n",
    "\n",
    "We want to load this javascript file:"
   ]
  },
  {
   "cell_type": "code",
   "execution_count": null,
   "metadata": {
    "collapsed": false,
    "deletable": true,
    "editable": true
   },
   "outputs": [],
   "source": [
    "js_fn=\"js/simple.js\"\n",
    "print(js_context.get_text_from_file_name(js_fn))"
   ]
  },
  {
   "cell_type": "code",
   "execution_count": null,
   "metadata": {
    "collapsed": false,
    "deletable": true,
    "editable": true
   },
   "outputs": [],
   "source": [
    "loadJS = jp_proxy_widget.JSProxyWidget()\n",
    "\n",
    "# load the file\n",
    "loadJS.load_js_files([js_fn])\n",
    "\n",
    "# callback for storing the styled element color\n",
    "loadJSinfo = {}\n",
    "\n",
    "def answer_callback(answer):\n",
    "    loadJSinfo[\"answer\"] = answer\n",
    "\n",
    "# initialize the element using the style and callback to report the color.\n",
    "loadJS.js_init(\"\"\"\n",
    "debugger;\n",
    "element.html('<b>The answer is ' + window.the_answer + '</b>')\n",
    "\n",
    "answer_callback(window.the_answer);\n",
    "\"\"\", answer_callback=answer_callback)\n",
    "\n",
    "def validate_loadJS():\n",
    "    expect = 42\n",
    "    assert expect == loadJSinfo[\"answer\"], repr((expect, loadJSinfo))\n",
    "    print (\"Loaded JS value is correct!\")\n",
    "\n",
    "loadJS"
   ]
  },
  {
   "cell_type": "code",
   "execution_count": null,
   "metadata": {
    "collapsed": false,
    "deletable": true,
    "editable": true
   },
   "outputs": [],
   "source": [
    "validators.add_validation(loadJS, validate_loadJS)\n",
    "\n",
    "if mainloop_check:\n",
    "    validate_loadJS()"
   ]
  },
  {
   "cell_type": "code",
   "execution_count": null,
   "metadata": {
    "collapsed": false,
    "deletable": true,
    "editable": true
   },
   "outputs": [],
   "source": [
    "# element reference\n",
    "# window reference\n",
    "# require\n",
    "# jqueryui"
   ]
  },
  {
   "cell_type": "code",
   "execution_count": null,
   "metadata": {
    "collapsed": false,
    "deletable": true,
    "editable": true
   },
   "outputs": [],
   "source": []
  },
  {
   "cell_type": "code",
   "execution_count": null,
   "metadata": {
    "collapsed": false,
    "deletable": true,
    "editable": true
   },
   "outputs": [],
   "source": [
    "#validator_widget.debugging_display()"
   ]
  },
  {
   "cell_type": "code",
   "execution_count": null,
   "metadata": {
    "collapsed": false,
    "deletable": true,
    "editable": true
   },
   "outputs": [],
   "source": [
    "delay_ms = 1000\n",
    "validators.run_all_in_widget(delay_ms=delay_ms)"
   ]
  },
  {
   "cell_type": "code",
   "execution_count": null,
   "metadata": {},
   "outputs": [],
   "source": []
  }
 ],
 "metadata": {
  "kernelspec": {
   "display_name": "Python 3",
   "language": "python",
   "name": "python3"
  },
  "language_info": {
   "codemirror_mode": {
    "name": "ipython",
    "version": 3
   },
   "file_extension": ".py",
   "mimetype": "text/x-python",
   "name": "python",
   "nbconvert_exporter": "python",
   "pygments_lexer": "ipython3",
   "version": "3.6.3"
  }
 },
 "nbformat": 4,
 "nbformat_minor": 2
}

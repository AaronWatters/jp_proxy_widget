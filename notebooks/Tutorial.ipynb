{
 "cells": [
  {
   "cell_type": "code",
   "execution_count": null,
   "metadata": {
    "collapsed": true
   },
   "outputs": [],
   "source": []
  },
  {
   "cell_type": "code",
   "execution_count": null,
   "metadata": {
    "collapsed": false
   },
   "outputs": [],
   "source": [
    "# Teaser example: sort geological epochs\n",
    "import jp_proxy_widget\n",
    "\n",
    "# Here are geological epochs ordered from older to younger.\n",
    "epoch_order = \"archaen proterozoic paleozoic mesozoic tertiary pleistocene holocene\".split()\n",
    "\n",
    "# HTML with epochs out of order:\n",
    "epoch_html = \"\"\" \n",
    "<ul>\n",
    "    <li data-sort-id=\"paleozoic\">paleozoic</li>\n",
    "    <li data-sort-id=\"pleistocene\">pleistocene</li>\n",
    "    <li data-sort-id=\"archaen\">archaen</li>\n",
    "    <li data-sort-id=\"holocene\">holocene</li>\n",
    "    <li data-sort-id=\"mesozoic\">mesozoic</li>\n",
    "    <li data-sort-id=\"tertiary\">tertiary</li>\n",
    "    <li data-sort-id=\"proterozoic\">proterozoic</li>\n",
    "</ul>\n",
    "\"\"\"\n",
    "\n",
    "from IPython.display import HTML\n",
    "HTML(epoch_html)"
   ]
  },
  {
   "cell_type": "code",
   "execution_count": null,
   "metadata": {
    "collapsed": false
   },
   "outputs": [],
   "source": [
    "def sort_epochs_widget():\n",
    "    \"Make a widget for sorting the epochs.\"\n",
    "    sort_epochs = jp_proxy_widget.JSProxyWidget()\n",
    "\n",
    "    # Use jQueryUI (sortable):\n",
    "    sort_epochs.check_jquery()\n",
    "\n",
    "    # Execute javascript to show the HTML in the widget.\n",
    "    sort_epochs.js_init(\"\"\"\n",
    "        // empty out the widget element.\n",
    "        element.empty()\n",
    "        // Append a title area for feedback.\n",
    "        element.title = $(\"<b>Please drag the epochs to the correct order.</b>\").appendTo(element);\n",
    "        // Append a divider.\n",
    "        $(\"<hr>\").appendTo(element);\n",
    "        // Add the initially incorrectly ordered html.\n",
    "        element.epoch_list = $(epoch_html).width(\"200px\").appendTo(element);\n",
    "        // Make the epoch list sortable\n",
    "        element.epoch_list.sortable()\n",
    "    \"\"\", epoch_html=epoch_html)\n",
    "    return sort_epochs\n",
    "\n",
    "sort_epochs_no_callbacks = sort_epochs_widget()\n",
    "\n",
    "# display the widget\n",
    "sort_epochs_no_callbacks"
   ]
  },
  {
   "cell_type": "code",
   "execution_count": null,
   "metadata": {
    "collapsed": false
   },
   "outputs": [],
   "source": [
    "# Make a new widget and add more functionality:\n",
    "sort_epochs = sort_epochs_widget()\n",
    "\n",
    "# Use this list to store the displayed order\n",
    "displayed_order = []\n",
    "\n",
    "# Define a function to report whether the displayed order is correct\n",
    "def check_order(order):\n",
    "    \"Python callback: check the displayed order sent from the Widget and report results.\"\n",
    "    # save the order globally for debugging and reference.\n",
    "    displayed_order[:] = order\n",
    "    ok = True\n",
    "    for (index, identifier) in enumerate(order):\n",
    "        correct_index = epoch_order.index(identifier)\n",
    "        color = \"yellow\"\n",
    "        if correct_index < index:\n",
    "            color = \"cyan\"\n",
    "            ok = False\n",
    "        elif correct_index > index:\n",
    "            color = \"magenta\"\n",
    "            ok = False\n",
    "        # colorize the element based on correct/incorrect order\n",
    "        sort_epochs.element.set_color(identifier, color)\n",
    "    if ok:\n",
    "        sort_epochs.element.set_title(\"The order is correct!\")\n",
    "    else:\n",
    "        sort_epochs.element.set_title(\"Cyan elements should be earlier and magenta elements later.\")\n",
    "\n",
    "sort_epochs.js_init(\"\"\"\n",
    "        // Attach a function to change the background color of a list element.\n",
    "        element.set_color = function(id, color) {\n",
    "            // jQuery magic:\n",
    "            element.find(\"[data-sort-id=\" + id + \"]\").css(\"background-color\", color)\n",
    "        };\n",
    "        // Attach a function to change the title\n",
    "        element.set_title = function(text) {\n",
    "            element.title.html(\"<b>\" + text + \"</b>\");\n",
    "        };\n",
    "        // Attach a function to report the displayed order back to the Python callback check_order:\n",
    "        element.report_order = function() {\n",
    "            check_order(element.epoch_list.sortable(\"toArray\", {\"attribute\": \"data-sort-id\"}))\n",
    "        };\n",
    "        // Add a check button linked to the Python callback\n",
    "        $('<button type=\"button\">Check it</button>').click(element.report_order).appendTo(element);\n",
    "\"\"\", \n",
    "                    # Bind the python callback\n",
    "                    check_order=check_order)\n",
    "\n",
    "sort_epochs"
   ]
  },
  {
   "cell_type": "code",
   "execution_count": null,
   "metadata": {
    "collapsed": false
   },
   "outputs": [],
   "source": [
    "sort_epochs.element.set_title(\"goober\")\n",
    "sort_epochs.element.set_color(\"paleozoic\", \"pink\")"
   ]
  },
  {
   "cell_type": "code",
   "execution_count": null,
   "metadata": {
    "collapsed": false
   },
   "outputs": [],
   "source": [
    "displayed_order"
   ]
  },
  {
   "cell_type": "code",
   "execution_count": null,
   "metadata": {
    "collapsed": false
   },
   "outputs": [],
   "source": [
    "sort_epochs.print_status()"
   ]
  },
  {
   "cell_type": "code",
   "execution_count": null,
   "metadata": {
    "collapsed": true
   },
   "outputs": [],
   "source": []
  }
 ],
 "metadata": {
  "kernelspec": {
   "display_name": "Python 3",
   "language": "python",
   "name": "python3"
  },
  "language_info": {
   "codemirror_mode": {
    "name": "ipython",
    "version": 3
   },
   "file_extension": ".py",
   "mimetype": "text/x-python",
   "name": "python",
   "nbconvert_exporter": "python",
   "pygments_lexer": "ipython3",
   "version": "3.6.3"
  }
 },
 "nbformat": 4,
 "nbformat_minor": 2
}

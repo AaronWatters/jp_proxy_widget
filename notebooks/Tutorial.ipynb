{
 "cells": [
  {
   "cell_type": "markdown",
   "metadata": {
    "deletable": true,
    "editable": true
   },
   "source": [
    "# Proxy widgets tutorial\n",
    "\n",
    "This tutorial attempts to introduce proxy widgets and to explain their usage and major features.\n",
    "\n",
    "The proxy widget mechanism is intended to make it easy to introduce Javascript based visualizations\n",
    "and other functionality into a Jupyter notebook.   Proxy widgets support easily configurable\n",
    "two way communication between Javascript components and Python components running in an IPython\n",
    "kernel process.  Proxy widgets may be used to exploit thousands of useful Javascript libraries\n",
    "and visualizations in Jupyter notebooks with relatively little effort.\n",
    "\n",
    "Proxy widgets may be combined with other widget implementations to provide dynamic\n",
    "and interactive methods for viewing and interacting with complex data sets.\n",
    "\n",
    "# Please note: the tutorial should be run interactively, one cell at a time\n",
    "\n",
    "The tutorial does not support \"offline\" or \"preview\" mode (as discussed below) and you will\n",
    "see surprising results if you use \"run all\" to run all the cells at once due to the asynchronous\n",
    "nature of Javascript/IPython communication (also discussed below).  Please run each\n",
    "cell of the tutorial independently, one at a time in order.\n",
    "\n",
    "# Prerequisites\n",
    "\n",
    "In order to use proxy widgets in non-trivial ways the reader will need to know\n",
    "something about Python, Jupyter, HTML5, CSS, and Javascript.  It also wouldn't\n",
    "hurt to have some familiarity with common Javascript libraries such a jQuery and\n",
    "`require.js`.  The following discussion assumes the reader has some\n",
    "familiarity with these pre-requisite topics.\n",
    "\n",
    "# A teaser: the Geological Epochs Challenge\n",
    "\n",
    "Let's start with a teaser -- an example that is intended to illustrate\n",
    "why proxy widgets are useful, but which is not fully explained in detail\n",
    "or necessarily easy to understand.  More (boring and) simplified self contained examples\n",
    "to illustrate specific features follow.\n",
    "\n",
    "# Injecting simple HTML\n",
    "\n",
    "Let's suppose we want to build a widget which tests to see whether the user\n",
    "can put geological epochs in correct order by time.  Below is Python code which\n",
    "creates a list with epochs in correct order and some HTML with the epochs\n",
    "in an incorrect order."
   ]
  },
  {
   "cell_type": "code",
   "execution_count": null,
   "metadata": {
    "collapsed": true,
    "deletable": true,
    "editable": true
   },
   "outputs": [],
   "source": [
    "# Teaser example: sort geological epochs\n",
    "import jp_proxy_widget\n",
    "\n",
    "# Here are geological epochs ordered from older to younger.\n",
    "epoch_order = \"archaen proterozoic paleozoic mesozoic tertiary pleistocene holocene\".split()\n",
    "\n",
    "# HTML with epochs out of order:\n",
    "epoch_html = \"\"\" \n",
    "<ul>\n",
    "    <li data-sort-id=\"paleozoic\">paleozoic</li>\n",
    "    <li data-sort-id=\"pleistocene\">pleistocene</li>\n",
    "    <li data-sort-id=\"archaen\">archaen</li>\n",
    "    <li data-sort-id=\"holocene\">holocene</li>\n",
    "    <li data-sort-id=\"mesozoic\">mesozoic</li>\n",
    "    <li data-sort-id=\"tertiary\">tertiary</li>\n",
    "    <li data-sort-id=\"proterozoic\">proterozoic</li>\n",
    "</ul>\n",
    "\"\"\""
   ]
  },
  {
   "cell_type": "markdown",
   "metadata": {
    "deletable": true,
    "editable": true
   },
   "source": [
    "Using standard IPython with no assistance from Javascript we can display the wrong order as static\n",
    "HTML, but the user cannot interact with the result, as shown below."
   ]
  },
  {
   "cell_type": "code",
   "execution_count": null,
   "metadata": {
    "collapsed": false,
    "deletable": true,
    "editable": true
   },
   "outputs": [],
   "source": [
    "from IPython.display import HTML, display\n",
    "display(HTML(\"<h1>Geological epochs in wrong order!</h1>\" + epoch_html))"
   ]
  },
  {
   "cell_type": "markdown",
   "metadata": {
    "deletable": true,
    "editable": true
   },
   "source": [
    "# Making a sortable list using jQueryUI `sortable`\n",
    "\n",
    "The jQueryUI library includes methods for making a static list like the\n",
    "one shown above into a `sortable` where the user can drag the list elements\n",
    "into different positions.\n",
    "\n",
    "Below we define a function which initializes a widget containing a sortable\n",
    "list.  The proxy widget specific details of the mechanisms illustrated are explained in greater\n",
    "detail further on."
   ]
  },
  {
   "cell_type": "code",
   "execution_count": null,
   "metadata": {
    "collapsed": false,
    "deletable": true,
    "editable": true
   },
   "outputs": [],
   "source": [
    "def sort_epochs_widget():\n",
    "    \"Make a widget for sorting the epochs.\"\n",
    "    sort_epochs = jp_proxy_widget.JSProxyWidget()\n",
    "\n",
    "    # Use jQueryUI (sortable):\n",
    "    sort_epochs.check_jquery()\n",
    "\n",
    "    # Execute javascript to show the HTML in the widget.\n",
    "    sort_epochs.js_init(\"\"\"\n",
    "    // empty out the widget element.\n",
    "    element.empty()\n",
    "    // Add some styling\n",
    "    element.css(\"background-color\", \"cornsilk\").width(\"400px\")\n",
    "    // Append a title area for feedback.\n",
    "    element.title = $(\"<b>Please drag the epochs to the correct order.</b>\").appendTo(element);\n",
    "    // Append a divider.\n",
    "    $(\"<hr>\").css(\"background-color\", \"#999\").css(\"height\", \"3px\").appendTo(element);\n",
    "\n",
    "    // Append the initially incorrectly ordered html.\n",
    "    element.epoch_list = $(epoch_html).width(\"200px\").appendTo(element);\n",
    "\n",
    "    // Make the epoch list sortable\n",
    "    element.epoch_list.sortable()\n",
    "    \"\"\", \n",
    "        # Inject the incorrectly ordered HTML from Python into Javascript.\n",
    "        epoch_html=epoch_html)\n",
    "    return sort_epochs\n",
    "\n",
    "sort_epochs_no_callbacks = sort_epochs_widget()\n",
    "\n",
    "# display the widget\n",
    "display(sort_epochs_no_callbacks)"
   ]
  },
  {
   "cell_type": "markdown",
   "metadata": {
    "deletable": true,
    "editable": true
   },
   "source": [
    "Although you can move the list elements to a different order there is no\n",
    "provision for checking that the resulting order is the correct order of\n",
    "the epochs by time.\n",
    "\n",
    "Let's add functionality to the widget implementation by calling back to\n",
    "Python from the widget when the user is ready and calling in to Javascript\n",
    "to display in the widget whether the result is correct.\n",
    "\n",
    "# Checking the list order using call-ins and call-backs\n",
    "\n",
    "The following code is short but includes a lot of detail that may\n",
    "be intimidating to the uninitiated.\n",
    "\n",
    "In general outline the code \n",
    "\n",
    "- defines a Python callback for checking the displayed order;\n",
    "- maps the callback into Javascript for use by the widget Javascript methods;\n",
    "- attaches three Javascript methods to the widget `element` that may be invoked from Python\n",
    "   - one to change the background color of an item,\n",
    "   - one to change the title text,\n",
    "   - and one to send the display order of items back to Python using the callback; and\n",
    "- appends a \"check it\" button to the widget connected to the Python callback."
   ]
  },
  {
   "cell_type": "code",
   "execution_count": null,
   "metadata": {
    "collapsed": false,
    "deletable": true,
    "editable": true
   },
   "outputs": [],
   "source": [
    "# Make a new widget and add more functionality:\n",
    "sort_epochs = sort_epochs_widget()\n",
    "\n",
    "# Use this list to store the displayed order\n",
    "displayed_order = []\n",
    "\n",
    "# Define a function to report whether the displayed order is correct\n",
    "def check_order(order):\n",
    "    \"Python callback: check the displayed order sent from the Widget and report results.\"\n",
    "    # save the order globally for debugging and reference.\n",
    "    displayed_order[:] = order\n",
    "    ok = True\n",
    "    for (index, identifier) in enumerate(order):\n",
    "        correct_index = epoch_order.index(identifier)\n",
    "        color = \"yellow\"\n",
    "        if correct_index < index:\n",
    "            color = \"cyan\"\n",
    "            ok = False\n",
    "        elif correct_index > index:\n",
    "            color = \"magenta\"\n",
    "            ok = False\n",
    "        # colorize the element based on correct/incorrect order\n",
    "        sort_epochs.element.set_color(identifier, color)\n",
    "    # Also change the title text, as appropriate.\n",
    "    if ok:\n",
    "        sort_epochs.element.set_title(\"The order is correct!\")\n",
    "    else:\n",
    "        sort_epochs.element.set_title(\"Drag cyan elements earlier and magenta elements later.\")\n",
    "\n",
    "sort_epochs.js_init(\"\"\"\n",
    "        // Attach a function to change the background color of a list element.\n",
    "        element.set_color = function(id, color) {\n",
    "            // jQuery magic:\n",
    "            element.find(\"[data-sort-id=\" + id + \"]\").css(\"background-color\", color)\n",
    "        };\n",
    "        // Attach a function to change the title\n",
    "        element.set_title = function(text) {\n",
    "            element.title.html(\"<b>\" + text + \"</b>\");\n",
    "        };\n",
    "        // Attach a function to report the displayed order back to the Python callback check_order:\n",
    "        element.report_order = function() {\n",
    "            check_order(element.epoch_list.sortable(\"toArray\", {\"attribute\": \"data-sort-id\"}))\n",
    "        };\n",
    "        // Append a check button linked to the Python callback\n",
    "        $('<button type=\"button\">Check it</button>').click(element.report_order).appendTo(element);\n",
    "\"\"\", \n",
    "    # Bind the python callback\n",
    "    check_order=check_order)\n",
    "\n",
    "display(sort_epochs)"
   ]
  },
  {
   "cell_type": "code",
   "execution_count": null,
   "metadata": {
    "collapsed": false,
    "deletable": true,
    "editable": true
   },
   "outputs": [],
   "source": [
    "# Note that you can also call in to the widget from other Python code.\n",
    "e = sort_epochs.element\n",
    "e.set_title(\"The geological epoch game!\")\n",
    "e.set_color(\"paleozoic\", \"pink\")"
   ]
  },
  {
   "cell_type": "markdown",
   "metadata": {
    "deletable": true,
    "editable": true
   },
   "source": [
    "I hope that somewhat complex preliminary motivated that proxy widgets provide\n",
    "an interesting way to use a Javascript library like jQueryUI\n",
    "to build an interactive widget in an IPython notebook.\n",
    "\n",
    "Now let's look at proxy widgets and their features in greater detail\n",
    "using simpler examples.\n",
    "\n",
    "# Some basic features of proxy widgets\n",
    "\n",
    "Here is an overview of the features of proxy widgets discussed using\n",
    "smaller examples below.\n",
    "\n",
    "- Proxy widgets are focused around the jQuery `element` associated to the widget.\n",
    "- Proxy widgets allow Python to call-in to Javascript.\n",
    "- Proxy widgets allow Javascript to call back to Python.\n",
    "- Python/Javascript interactions for widgets (including proxy widgets) are asynchronous.\n",
    "- Proxy widgets allow Python to send JSON compatible data to Javascript (with extensions).\n",
    "- Proxy widgets allow Javascript to send JSON compatible data to Python up to a specified recursion limit.\n",
    "- Proxy widgets can load CSS styles.\n",
    "- Proxy widgets can load vanilla Javascript libraries.\n",
    "- Proxy widgets can load AMD Javascript modules designed to be managed by require.js\n",
    "\n",
    "# Some proxy widget limitations and the security imperative\n",
    "\n",
    "Proxy widgets have limitations and they do not do everything that can be implemented using\n",
    "full blown widgets.  We will also discuss the following limitations.\n",
    "\n",
    "- The order of execution between cells and javascript fragments can be confusing.\n",
    "- Proxy widgets are not designed to work in offline mode\n",
    "- Proxy widgets are not designed to provide a \"preview\" when a notebook is first openned but no cells are executed.\n",
    "- Proxy widgets are not designed to support \"multiple views\" of the same widget instance.\n",
    "- Working with large amounts of Javascript in proxy widgets can be cumbersome.\n",
    "\n",
    "Some of the limitations are a consequence of the following **security imperative**:\n",
    "\n",
    "> A proxy widget will **never automatically execute code** before the notebook cell\n",
    "> constructing the widget is explicitly executed.\n",
    "\n",
    "This means that you can open and preview a notebook containing proxy widgets and the\n",
    "proxy widgets will not have any effects until you execute the cells that define the widgets.\n",
    "\n",
    "This security imperative is discussed in greater detail below.\n"
   ]
  },
  {
   "cell_type": "markdown",
   "metadata": {
    "deletable": true,
    "editable": true
   },
   "source": [
    "# Feature examples\n",
    "\n",
    "## Proxy widgets are focused around the jQuery `element` associated to the widget.\n",
    "\n",
    "All widgets are associated with an HTML DOM (Document Object Model) object\n",
    "that is displayed on the page and anchors the widget which is referred to\n",
    "by proxy widget implementations as the `element`.  The proxy widget element\n",
    "is actually not the DOM object itself, but it is a jQuery wrapper containing\n",
    "the DOM object.\n",
    "\n",
    "Proxy widgets have a `js_init` method (which may be called any number of times)\n",
    "which injects Javascript code for configuring the Proxy widget.  The\n",
    "`js_init` provides the variable `element` which refers to jQuery DOM object wrapper\n",
    "associated with the widget.\n",
    "\n",
    "Code in `js_init` may attach functions or other objects to the `element` for\n",
    "later reference.\n",
    "\n",
    "The `element` is also available directly in Python code via a facade object\n",
    "`widget.element`.  The `widget.element` may be used to call callables attached\n",
    "to the element associated with the widget.  For example below we use\n",
    "`demo0.element.width(\"300px\")` from Python to call the `jQuery.width` method\n",
    "which changes the width of the widget element and we use\n",
    "`demo0.element.change_text(\"...\")` in Python to invoke a function attached \n",
    "in `js_init` to the element which changes the HTML text of the element."
   ]
  },
  {
   "cell_type": "code",
   "execution_count": null,
   "metadata": {
    "collapsed": false,
    "deletable": true,
    "editable": true
   },
   "outputs": [],
   "source": [
    "demo0 = jp_proxy_widget.JSProxyWidget()\n",
    "\n",
    "demo0.js_init(\"\"\"\n",
    "// In js_init the \"element\" jQuery object is always bound to the widget \"anchor\".\n",
    "// The element is a jQuery object equipped with standard jQuery methods and any\n",
    "// extension methods which have been injected into jQuery.\n",
    "element.empty();\n",
    "\n",
    "// put some helpful text in the widget\n",
    "element.html(\"<div><b>The element is right here where the bold text shows up!</b></div>\");\n",
    "\n",
    "// You can also attach functions and other objects to the element by name for use later:\n",
    "element.change_text = function(text) {\n",
    "    element.html(\"<div><em>\" + text + \"</em></div>\")\n",
    "}\n",
    "\"\"\")\n",
    "\n",
    "# display the demo0 widget\n",
    "display(demo0)"
   ]
  },
  {
   "cell_type": "code",
   "execution_count": null,
   "metadata": {
    "collapsed": false,
    "deletable": true,
    "editable": true
   },
   "outputs": [],
   "source": [
    "# From Python the element is emulated as \"widget.element\" -- use this handle to call methods of the element.\n",
    "demo0.element.css(\"background-color\", \"cyan\")\n",
    "demo0.element.width(\"300px\")\n",
    "demo0.element.change_text(\"Help! Help! I'm being repressed!\")"
   ]
  },
  {
   "cell_type": "markdown",
   "metadata": {
    "deletable": true,
    "editable": true
   },
   "source": [
    "## Proxy widgets allow Python to call-in to Javascript.\n",
    "\n",
    "We have seen above several examples of Python calling Javascript via\n",
    "the `widget.element` facade object.  Although there are other ways to\n",
    "invoke Javascript code not documented in this tutorial it is most convenient\n",
    "to call functions or methods directly attached to the `element` in this\n",
    "manner.  Below we configure a widget using only standard `jQuery` methods\n",
    "pre-defined for the `element`.  Other callables can be attached to\n",
    "the `element` using `js_init` and called from Python via `widget.element`\n",
    "as shown in the previous example."
   ]
  },
  {
   "cell_type": "code",
   "execution_count": null,
   "metadata": {
    "collapsed": false,
    "deletable": true,
    "editable": true
   },
   "outputs": [],
   "source": [
    "demo_call = jp_proxy_widget.JSProxyWidget()\n",
    "e = demo_call.element\n",
    "e.empty()\n",
    "e.html(\"<div>Demonstration of calling from Python to Javascript</div>\")\n",
    "e.css(\"background-color\", \"#badcad\")\n",
    "e.width(\"200px\")\n",
    "e.height(\"100px\")\n",
    "# display the widget\n",
    "display(demo_call)"
   ]
  },
  {
   "cell_type": "code",
   "execution_count": null,
   "metadata": {
    "collapsed": false,
    "deletable": true,
    "editable": true
   },
   "outputs": [],
   "source": [
    "# The methods may be called after initialization too any number of\n",
    "# times (for example in response to interactive events).\n",
    "e.css(\"color\", \"#d1b\")"
   ]
  },
  {
   "cell_type": "markdown",
   "metadata": {
    "deletable": true,
    "editable": true
   },
   "source": [
    "## Proxy widgets allow Javascript to call back to Python (asynchronously).\n",
    "\n",
    "You can use `js_init` to bind Javascript variables to Python call backs\n",
    "which can be called from Javascript.  The Python callables are most useful\n",
    "for responding to Javascript events by updating data structures or\n",
    "triggering changes to the widget that require information available to the Python\n",
    "kernel.\n",
    "\n",
    "As discussed below the callbacks run asynchronously and things like `print` \n",
    "and raised exceptoins do\n",
    "not behave \"normally\".  Proxy widgets provide a `debugging_display` helper method\n",
    "which captures print output and exceptions from callbacks as illustrated below."
   ]
  },
  {
   "cell_type": "code",
   "execution_count": null,
   "metadata": {
    "collapsed": false,
    "deletable": true,
    "editable": true
   },
   "outputs": [],
   "source": [
    "def printing_callback(*args):\n",
    "    print(\"received: \", args)\n",
    "    \n",
    "demo_callback = jp_proxy_widget.JSProxyWidget()\n",
    "demo_callback.js_init(\"\"\"\n",
    "element.html(\"<div>Proxy widget sending:</div>\").css(\"background-color\", \"#9ce\").width(\"400px\");\n",
    "\n",
    "// Create a function which uses the callback\n",
    "var send = function(text) {\n",
    "    $(\"<pre>    \" + text + \"</pre>\").appendTo(element);\n",
    "    callback(text);\n",
    "};\n",
    "\n",
    "// Send some stuff\n",
    "send(\"Never gonna give you up\");\n",
    "send(\"Never gonna let you down\");\n",
    "send(\"Never gonna run around and desert you\");\n",
    "\"\"\", callback=printing_callback)\n",
    "\n",
    "# Capture prints from the printing_callback with the help of debugging_display:\n",
    "demo_callback.debugging_display()"
   ]
  },
  {
   "cell_type": "markdown",
   "metadata": {
    "deletable": true,
    "editable": true
   },
   "source": [
    "## Python/Javascript interactions for widgets (including proxy widgets) are asynchronous.\n",
    "\n",
    "One of the confusing aspects of widget programming in general is the asynchronous\n",
    "nature of the communication between the Python kernel and the Javascript front end.\n",
    "Essentially all communication is effected by one way messages.  This means that when\n",
    "Python commands Javascript to do something the Python kernel is never informed when\n",
    "the operation is complete (directly).  Similary when Javascript calls back to the Python\n",
    "kernel the Javascript code does not directly know when the call back has completed.\n",
    "In many cases the \"other side\" may not even be sure when a message has arrived and\n",
    "an operation has started either.\n",
    "\n",
    "If we use `request.js` to asynchronously loaded Javascript modules there is yet another\n",
    "layer of asynchronicity at play.  This can make programming widgets confusing and tricky.\n",
    "\n",
    "In general if a widget implementation \n",
    "requires execution ordering constraints between\n",
    "fragments of Javascript and fragments of Python, the implementation may need to\n",
    "build in some sort of explicit signalling.  This is a general\n",
    "issue for all widget implementations not specific to proxy widgets.\n",
    "\n",
    "*Warning:* Python `time.sleep(x)` freezes the Python interpreter and \n",
    "`IPython.get_ipython().kernel.do_one_iteration()` causes cells to execute out of order\n",
    "and other anomalies.  I've found they \n",
    "are usually not helpful for addressing synchronization issues.\n",
    "\n",
    "### Async example anomaly\n",
    "\n",
    "For example the following proxy widget implementation immediately calls back\n",
    "to Python when the widget is initialized.  However since the widget initialization\n",
    "does not complete until after the code cell has executed, the code cell does not see\n",
    "any side effects of the callback (since it hasn't happened yet).  This kind of\n",
    "thing can be surprising if you have no insight into the underlying communication\n",
    "mechanism.\n",
    "\n",
    "If you run these cells using \"Run All\" then the callback will not execute until\n",
    "all the cells of the notebook have completed (which I consider a misfeature) so\n",
    "even the following cells will not see side effects from the call back."
   ]
  },
  {
   "cell_type": "code",
   "execution_count": null,
   "metadata": {
    "collapsed": false,
    "deletable": true,
    "editable": true
   },
   "outputs": [],
   "source": [
    "demo_async = jp_proxy_widget.JSProxyWidget()\n",
    "\n",
    "# store callback results here:\n",
    "async_info = []\n",
    "\n",
    "def callback_async(*args):\n",
    "    \"Python callback: Store the arguments globally for inspection later.\"\n",
    "    async_info[:] = args\n",
    "    \n",
    "demo_async.js_init(\"\"\"\n",
    "\n",
    "// Put some text in the widget and add a CSS class too.\n",
    "element.html(\"<div>Demonstration of async behavior</div>\")\n",
    "   .addClass(\"no-such-class-is-defined-I-think\")\n",
    "   .css(\"background-color\", \"#dc9\").width(\"200px\");\n",
    "\n",
    "// Call back to python with the class string\n",
    "// -- but it won't happen until *after* the cell has executed\n",
    "callback_async(element.attr(\"class\"))\n",
    "\n",
    "$(\"<div><b>I called the call back!</b></div>\").appendTo(element)\n",
    "\n",
    "\"\"\", callback_async=callback_async)\n",
    "\n",
    "# display the widget\n",
    "display(demo_async)\n",
    "\n",
    "# print the stored arguments (there won't be any!)\n",
    "print(\"Right after displaying the widget in the same cell async info is\", async_info)\n",
    "print(\"because the callback will execute asynchronously later.\")"
   ]
  },
  {
   "cell_type": "code",
   "execution_count": null,
   "metadata": {
    "collapsed": false,
    "deletable": true,
    "editable": true
   },
   "outputs": [],
   "source": [
    "# If you are running the cells by hand then when you execute this cell \n",
    "# the call back value will have arrived.\n",
    "\n",
    "# However if you do a \"run all cells\" then the value won't arrive until *all* the cells\n",
    "# in the notebook have executed.\n",
    "\n",
    "print(\"But in the next cell async info is\", async_info)\n",
    "if not async_info:\n",
    "    print (\"Are you running this cell interactively?  I think not.\")"
   ]
  },
  {
   "cell_type": "markdown",
   "metadata": {
    "deletable": true,
    "editable": true
   },
   "source": [
    "## Proxy widgets allow Python to send JSON compatible data to Javascript (with extensions).\n",
    "\n",
    "Proxy widgets send data back and forth between Python kernels and Javascript interpreters using\n",
    "JSON encoded packets.  The following helper uses the `debugging_display` of a proxy widget to illustrate\n",
    "values sent by Python, values received by Javascript, and values passed back from Javascript to Python.\n",
    "\n",
    "The `debugging_display` uses a composite widget to capture prints and exceptions generated\n",
    "by widget callbacks."
   ]
  },
  {
   "cell_type": "code",
   "execution_count": null,
   "metadata": {
    "collapsed": true
   },
   "outputs": [],
   "source": [
    "def print_value_report(title, value):\n",
    "    print(title)\n",
    "    print(\"   Python value = \", repr(value))\n",
    "    print(\"   Python type = \", repr(type(value)))\n",
    "\n",
    "def value_round_trip_report(value):\n",
    "    print_value_report(\"Sending\", value)\n",
    "    w = jp_proxy_widget.JSProxyWidget()\n",
    "    \n",
    "    w.js_init(\"\"\"\n",
    "    \n",
    "    // \"Print\" information on the value received by Javascript.\n",
    "    element.html(\"<div><em>Javascript call-in got</em></div>\").css(\"background-color\", \"#ae9\");\n",
    "    $(\"<pre>    Javascript value = \" + value + \"</pre>\").appendTo(element);\n",
    "    var value_type = typeof value;\n",
    "    $(\"<pre>    Javascript type = \" + value_type + \"</pre>\").appendTo(element);\n",
    "    try {\n",
    "        var value_constructor = value.constructor.name;\n",
    "        $(\"<pre>    Javascript constructor = \" + value_constructor + \"</pre>\").appendTo(element);\n",
    "    } catch (err) {\n",
    "        $(\"<pre>    No Javascript constructor</pre>\").appendTo(element);\n",
    "    }\n",
    "    \n",
    "    // Call back to Python to see what value gets sent back.\n",
    "    report_callback(\"Call back got value\", value);\n",
    "    \n",
    "    \"\"\", value=value, report_callback=print_value_report)\n",
    "    \n",
    "    display(w.debugging_display())\n",
    "    "
   ]
  },
  {
   "cell_type": "code",
   "execution_count": null,
   "metadata": {
    "collapsed": false
   },
   "outputs": [],
   "source": [
    "# You can send strings!\n",
    "a_string = \"Four score and seven years ago...\"\n",
    "value_round_trip_report(a_string)"
   ]
  },
  {
   "cell_type": "code",
   "execution_count": null,
   "metadata": {
    "collapsed": false
   },
   "outputs": [],
   "source": [
    "# You can send numbers!\n",
    "a_number = 3.14\n",
    "value_round_trip_report(a_number)"
   ]
  },
  {
   "cell_type": "code",
   "execution_count": null,
   "metadata": {
    "collapsed": false
   },
   "outputs": [],
   "source": [
    "# You can send None!\n",
    "value_round_trip_report(None)"
   ]
  },
  {
   "cell_type": "code",
   "execution_count": null,
   "metadata": {
    "collapsed": false
   },
   "outputs": [],
   "source": [
    "# You can send lists!\n",
    "a_list = [None, a_number, a_string]\n",
    "value_round_trip_report(a_list)"
   ]
  },
  {
   "cell_type": "code",
   "execution_count": null,
   "metadata": {
    "collapsed": false
   },
   "outputs": [],
   "source": [
    "# You can send JSON compatible dictionaries!\n",
    "a_dict = {\"str\": a_string, \"float\": a_number, \"None\": None, \"list\": a_list}\n",
    "value_round_trip_report(a_dict)"
   ]
  },
  {
   "cell_type": "markdown",
   "metadata": {},
   "source": [
    "### Sending binary data\n",
    "\n",
    "You can send binary data from Python to Javascript using Python `bytearrays`.\n",
    "The binary data will show up on the Javascript side as a `Uint8Array` with the\n",
    "same bytes as content.\n",
    "\n",
    "You can send binary data from Javascript to Python using `Uint8Array`s but the\n",
    "corresponding value will show up on the Python side as a hex-encoded string.\n",
    "The `jp_proxy_widget.hex_codec.hex_to_binary(hex_string)` convenience function\n",
    "converts a hex encoded string to a Python `bytearray`."
   ]
  },
  {
   "cell_type": "code",
   "execution_count": null,
   "metadata": {
    "collapsed": false
   },
   "outputs": [],
   "source": [
    "binary_in = bytearray(range(10))\n",
    "value_round_trip_report(binary_in)"
   ]
  },
  {
   "cell_type": "code",
   "execution_count": null,
   "metadata": {
    "collapsed": false,
    "deletable": true,
    "editable": true
   },
   "outputs": [],
   "source": [
    "# The call back \"binary\" value above is the hex encoded string:\n",
    "hex_string = '00010203040506070809'\n",
    "\n",
    "# Convert it back to real binary thus:\n",
    "from jp_proxy_widget.hex_codec import hex_to_bytearray\n",
    "(binary_in, hex_to_bytearray(hex_string))"
   ]
  },
  {
   "cell_type": "markdown",
   "metadata": {
    "deletable": true,
    "editable": true
   },
   "source": [
    "## Proxy widgets allow Javascript to send JSON compatible data to Python up to a specified recursion limit.\n",
    "\n",
    "The code to convert Javascript values for sending to the Python kernel uses\n",
    "simple recursive descent and does not test for shared or cyclic structures.\n",
    "In order to prevent infinite loops and to reduce the likelihood of exponential\n",
    "data structure sizes there is a `callable_level` depth cutoff to truncate the\n",
    "recursion.\n",
    "\n",
    "In some cases widget implementations may need to increase the\n",
    "`callable_level` (which defaults to 3) in order to send deeper structures\n",
    "to Python.  The example below increases the level to 5.\n",
    "\n",
    "The widget below creates a cyclic (self referential) data structure and passes\n",
    "the value back to Python in a callback.  The Python callback receives the \"unravelled\"\n",
    "structure truncated at the 5th recursion.  In this case simple recursive descent\n",
    "with no depth limit (or other sanity check) would result in an infinite recursion."
   ]
  },
  {
   "cell_type": "code",
   "execution_count": null,
   "metadata": {
    "collapsed": false,
    "deletable": true,
    "editable": true
   },
   "outputs": [],
   "source": [
    "demo_recursion_limit = jp_proxy_widget.JSProxyWidget()\n",
    "\n",
    "recursion_data = []\n",
    "\n",
    "def recursion_callback(*args):\n",
    "    recursion_data[:] = args\n",
    "    \n",
    "demo_recursion_limit.js_init(\"\"\"\n",
    "var self_loop_object = {\"simple_value\": 100};\n",
    "\n",
    "// make a self referential loop\n",
    "self_loop_object[\"self_loop\"] = self_loop_object\n",
    "\n",
    "element.html(\"Calling back with an 'infinite' object ;c)\");\n",
    "\n",
    "recursion_callback(self_loop_object)\n",
    "\n",
    "\"\"\", recursion_callback=recursion_callback, callable_level=5)\n",
    "\n",
    "display(demo_recursion_limit)"
   ]
  },
  {
   "cell_type": "code",
   "execution_count": null,
   "metadata": {
    "collapsed": false,
    "deletable": true,
    "editable": true
   },
   "outputs": [],
   "source": [
    "if not recursion_data:\n",
    "    print (\"Please run this cell interactively.\")\n",
    "else:\n",
    "    print (\"Here the cyclic structure sent from Javascript is unravelled but truncated 5 levels deep:\")\n",
    "recursion_data"
   ]
  },
  {
   "cell_type": "markdown",
   "metadata": {
    "deletable": true,
    "editable": true
   },
   "source": [
    "## Proxy widgets can load CSS styles.\n",
    "\n",
    "The proxy widget implementation is intended to support the use of Javascript\n",
    "libraries in Jupyter even when the libraries have not been designed for use in Jupyter.\n",
    "Often external libraries require support from CSS style definitions.\n",
    "\n",
    "The proxy widget API includes methods for loading external CSS files by \n",
    "file path or by URL.\n",
    "\n",
    "## `jp_proxy_widget` \"vendor\" files\n",
    "\n",
    "The `jp_proxy_widget` module includes a number of supporting Javascript\n",
    "and CSS files.  If a file path is not found in the usual way, the proxy\n",
    "widget implementation will try to find it in the vendor area.\n",
    "\n",
    "To demonstrate the loading of CSS files we load `js/simple.css` from the\n",
    "vendor area.  First we examine the file content and then we load and use\n",
    "the CSS styles."
   ]
  },
  {
   "cell_type": "code",
   "execution_count": null,
   "metadata": {
    "collapsed": false,
    "deletable": true,
    "editable": true
   },
   "outputs": [],
   "source": [
    "from jp_proxy_widget import js_context\n",
    "style_fn=\"js/simple.css\"\n",
    "print(js_context.get_text_from_file_name(style_fn))"
   ]
  },
  {
   "cell_type": "code",
   "execution_count": null,
   "metadata": {
    "collapsed": false,
    "deletable": true,
    "editable": true
   },
   "outputs": [],
   "source": [
    "loadCSS = jp_proxy_widget.JSProxyWidget()\n",
    "\n",
    "# load the CSS file (just once per page).\n",
    "loadCSS.load_css(style_fn)\n",
    "\n",
    "loadCSS.js_init(\"\"\"\n",
    "element.html('<div><em class=\"random-style-for-testing\">Styled widget element.</em></div>')\n",
    "\"\"\")\n",
    "display(loadCSS)"
   ]
  },
  {
   "cell_type": "markdown",
   "metadata": {
    "deletable": true,
    "editable": true
   },
   "source": [
    "## Proxy widgets can load vanilla Javascript libraries.\n",
    "\n",
    "Proxy widgets are intended to be used with external Javascript libraries.\n",
    "If the external library is a \"stand alone vanilla Javascript library\" which\n",
    "does not require the use of loader like `require.js` or some other loader\n",
    "a widget may load the library using `load_js_files` as shown below.\n",
    "\n",
    "First we examine a demo vanilla javascript file\n",
    "from the vendor area and then we show\n",
    "a proxy widget which loads and uses the loaded javascript side effects."
   ]
  },
  {
   "cell_type": "code",
   "execution_count": null,
   "metadata": {
    "collapsed": false,
    "deletable": true,
    "editable": true
   },
   "outputs": [],
   "source": [
    "js_fn=\"js/simple.js\"\n",
    "print(js_context.get_text_from_file_name(js_fn))"
   ]
  },
  {
   "cell_type": "code",
   "execution_count": null,
   "metadata": {
    "collapsed": false,
    "deletable": true,
    "editable": true
   },
   "outputs": [],
   "source": [
    "loadJS = jp_proxy_widget.JSProxyWidget()\n",
    "\n",
    "loadJSinfo = {}\n",
    "\n",
    "def answer_callback(answer):\n",
    "    loadJSinfo[\"answer\"] = answer\n",
    "\n",
    "# load the file\n",
    "loadJS.load_js_files([js_fn])\n",
    "\n",
    "\n",
    "loadJS.js_init(\"\"\"\n",
    "    element.html('<b>The answer is ' + window.the_answer + '</b>')\n",
    "    answer_callback(window.the_answer);\n",
    "\"\"\", answer_callback=answer_callback)\n",
    "\n",
    "display(loadJS)"
   ]
  },
  {
   "cell_type": "code",
   "execution_count": null,
   "metadata": {
    "collapsed": false,
    "deletable": true,
    "editable": true
   },
   "outputs": [],
   "source": [
    "if not loadJSinfo:\n",
    "    print (\"Please run this cell interactively!\")\n",
    "loadJSinfo"
   ]
  },
  {
   "cell_type": "markdown",
   "metadata": {
    "deletable": true,
    "editable": true
   },
   "source": [
    "## Proxy widgets can load AMD Javascript modules designed to be managed by require.js\n",
    "\n",
    "Some \"anonymous\" Javascript libraries are designed to have no automatic side effects in the\n",
    "environment and must be loaded by a loader.  The proxy widget implementation includes built\n",
    "in support for modules designed to be managed by the `require.js` loader.\n",
    "\n",
    "Below is an example anonymous module from the vendor area:"
   ]
  },
  {
   "cell_type": "code",
   "execution_count": null,
   "metadata": {
    "collapsed": false
   },
   "outputs": [],
   "source": [
    "require_fn=\"js/simple_define.js\"\n",
    "print(js_context.get_text_from_file_name(require_fn))"
   ]
  },
  {
   "cell_type": "markdown",
   "metadata": {},
   "source": [
    "The proxy widget below makes sure `require.js` is available and loads the example module."
   ]
  },
  {
   "cell_type": "code",
   "execution_count": null,
   "metadata": {
    "collapsed": false,
    "deletable": true,
    "editable": true
   },
   "outputs": [],
   "source": [
    "requireJS = jp_proxy_widget.JSProxyWidget()\n",
    "\n",
    "module_identifier = \"three_primes\"\n",
    "\n",
    "# Associate the module with the module_identifier\n",
    "requireJS.require_js(module_identifier, require_fn)\n",
    "\n",
    "# Initialize the element using code that requires the loaded module using the identifier.\n",
    "requireJS.js_init(\"\"\"\n",
    "console.log(\"js init calling requirejs \" + module_identifier);\n",
    "\n",
    "element.html(\"<em>loading \" + module_identifier + \"</em>\");\n",
    "element.css(\"background-color\", \"#ea9\")\n",
    "\n",
    "element.requirejs([module_identifier], function(module_value) {\n",
    "    console.log(\"js init using value for \" + module_identifier);\n",
    "\n",
    "    $('<div><b>First three primes: ' + module_value.first_3_primes + '</b></div>')\n",
    "       .css(\"background-color\", \"#9ea\").appendTo(element);\n",
    "});\n",
    "\"\"\", module_identifier=module_identifier)\n",
    "\n",
    "display(requireJS)"
   ]
  },
  {
   "cell_type": "markdown",
   "metadata": {
    "deletable": true,
    "editable": true
   },
   "source": [
    "# Proxy widget limitations discussion\n",
    "\n",
    "Widget development is tricky and proxy widgets are not intended to support all the features\n",
    "which are available to full blown widget implementaions.  Below we discuss some of the issues\n",
    "and limitations of proxy widgets.\n",
    "\n",
    "## The order of execution between cells and javascript fragments can be confusing.\n",
    "\n",
    "When you combine the asynchronous nature of widget communications with other asynchronous libraries\n",
    "such as `require.js` you can easily get into synchronization problems.  For example a\n",
    "Python side widget implementation\n",
    "may attempt to call a Javascript function before the function has been defined.\n",
    "\n",
    "The following example shows a technique that makes sure the widget Javascript is fully\n",
    "initialized before the Python implementation attempts to interact with Javascript functions.\n",
    "The trick is to use a `ready` callback which is called by the Javascript initialization code\n",
    "when the widget is fully initialized.\n",
    "\n",
    "If we modify the implementation to call the `self.ready()` method immediately in `self.__init__`\n",
    "the widget will fail because the `make_save_button` javascript function will not be defined\n",
    "before it is called from Python."
   ]
  },
  {
   "cell_type": "code",
   "execution_count": null,
   "metadata": {
    "collapsed": false,
    "deletable": true,
    "editable": true
   },
   "outputs": [],
   "source": [
    "class SaverWidget(jp_proxy_widget.JSProxyWidget):\n",
    "    \n",
    "    def __init__(self, *pargs, **kwargs):\n",
    "        super(SaverWidget, self).__init__(*pargs, **kwargs)\n",
    "        # Bind the \"FileSaver\" AMD library.\n",
    "        self.require_js(\"saveAs\", \"js/FileSaver.js\")\n",
    "        # Initialize the widget using they asynchronously loaded \"saveAs\" module\n",
    "        self.js_init(\"\"\"\n",
    "        // Use require to asynchronously load the \"saveAs\" module.\n",
    "        element.requirejs([\"saveAs\"], function(saveAs) {\n",
    "        \n",
    "            // Define a function to create a \"save filename\" button.\n",
    "            // Python better not try to call this function before it's defined!\n",
    "            element.make_save_button = function(text, name, type) {\n",
    "            \n",
    "                // When the user clicks, download the file content using the name and type.\n",
    "                var save_click = function() {\n",
    "                    var blob = new Blob([text], {type: type});\n",
    "                    saveAs(blob, name);\n",
    "                };\n",
    "                \n",
    "                // Give the user a button to click.\n",
    "                element.html(\"<button>Save file \" + name + \"</button>\").click(save_click)\n",
    "            };\n",
    "            \n",
    "            // OK: now the widget is initialized and ready!\n",
    "            ready();\n",
    "            \n",
    "        });\n",
    "        \"\"\", ready=self.ready)\n",
    "        \n",
    "    def ready(self):\n",
    "        \"Make a button to download a small text file.\"\n",
    "        # This won't work unless make_save_button is defined first!\n",
    "        self.element.make_save_button(\"small text content\", \"small_file_download.txt\", \"text/plain;charset=utf-8\")\n",
    "\n",
    "print (\"Warning -- if you click the button a file will download to your download area!\")\n",
    "display(SaverWidget())"
   ]
  },
  {
   "cell_type": "markdown",
   "metadata": {},
   "source": [
    "## Proxy widgets are not designed to support \"multiple views\" of the same widget instance.\n",
    "\n",
    "Widgets can support multiple views where the same \"widget model\" can have several\n",
    "\"view presentations\" which behave the same.  The implementation of multiple views\n",
    "requires the Python side of the widget implementation to replicate all state information\n",
    "kept on the Javascript side so that the state for a new view can be replicated to\n",
    "match existing views.\n",
    "\n",
    "Proxy widgets are defined to work with arbitrary Javascript libraries and it is\n",
    "not feasible to replicate the internal state information generically for any possible library\n",
    "implementation.\n",
    "Consequently multiple views for proxy widgets do not work.\n",
    "\n",
    "For example if we create a proxy widget and display it twice\n",
    "the second view will say `Uninitialized Proxy Widget`."
   ]
  },
  {
   "cell_type": "code",
   "execution_count": null,
   "metadata": {
    "collapsed": false
   },
   "outputs": [],
   "source": [
    "view_me = sort_epochs_widget()\n",
    "\n",
    "# The first view works.\n",
    "display(view_me)"
   ]
  },
  {
   "cell_type": "code",
   "execution_count": null,
   "metadata": {
    "collapsed": false
   },
   "outputs": [],
   "source": [
    "# The second view doesn't work\n",
    "display(view_me)"
   ]
  },
  {
   "cell_type": "code",
   "execution_count": null,
   "metadata": {
    "collapsed": true
   },
   "outputs": [],
   "source": []
  },
  {
   "cell_type": "markdown",
   "metadata": {
    "deletable": true,
    "editable": true
   },
   "source": [
    "# Security Imperative: No Automatic Execution\n",
    "\n",
    "In the Jupyter world the code encapsulated in a Jupyter notebook cell can\n",
    "do anything the underlying language kernel can do.  **The user is responsible\n",
    "for making sure a notebook cell will not accidentally or maliciously do something\n",
    "harmful when the user explicitly executes the cell.**\n",
    "\n",
    "However when you open a notebook the user does not have control of what\n",
    "the notebook does **automatically** before cells are explicitly executed.\n",
    "\n",
    "To prevent proxy widgets from automatically performing actions before the\n",
    "user has explicitly executed the cells containing the proxy widgets the\n",
    "proxy widget implementation follows the following **security imperative**:\n",
    "\n",
    "> A proxy widget will **never automatically execute code** before the notebook cell\n",
    "> constructing the widget is explicitly executed.\n",
    "\n",
    "To prevent proxy widgets from performing automatic actions before the cell\n",
    "which constructs the widget is executed some IPython widget optional features\n",
    "are disabled or not implemented.\n",
    "\n",
    "\n",
    "## Proxy widgets are not designed to work in offline mode\n",
    "\n",
    "In general IPython widgets can include features to support viewing widget\n",
    "output outside of the Jupyter server context when there is no IPython kernel\n",
    "running in the back end.  To implement this for proxy widgets the implementation\n",
    "would need to store arbitrary Javascript in the notebook.  That would be\n",
    "a potential violation of the security imperative and for that reason this\n",
    "feature is not implemented."
   ]
  },
  {
   "cell_type": "code",
   "execution_count": null,
   "metadata": {
    "collapsed": true,
    "deletable": true,
    "editable": true
   },
   "outputs": [],
   "source": []
  },
  {
   "cell_type": "markdown",
   "metadata": {
    "deletable": true,
    "editable": true
   },
   "source": [
    "## Proxy widgets are not designed to provide a \"preview\" when a notebook is first opened but no cells are executed.\n",
    "\n",
    "The preview feature for proxy widgets would require the automatic execution\n",
    "of javascript before cells have executed.  That would be a violation of the\n",
    "security imperative so this feature is not supported."
   ]
  },
  {
   "cell_type": "code",
   "execution_count": null,
   "metadata": {
    "collapsed": false,
    "deletable": true,
    "editable": true
   },
   "outputs": [],
   "source": []
  }
 ],
 "metadata": {
  "kernelspec": {
   "display_name": "Python 3",
   "language": "python",
   "name": "python3"
  },
  "language_info": {
   "codemirror_mode": {
    "name": "ipython",
    "version": 3
   },
   "file_extension": ".py",
   "mimetype": "text/x-python",
   "name": "python",
   "nbconvert_exporter": "python",
   "pygments_lexer": "ipython3",
   "version": "3.6.3"
  }
 },
 "nbformat": 4,
 "nbformat_minor": 2
}

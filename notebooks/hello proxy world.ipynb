{
 "cells": [
  {
   "cell_type": "markdown",
   "metadata": {},
   "source": [
    "# Hello world using `jp_proxy_widget`"
   ]
  },
  {
   "cell_type": "code",
   "execution_count": 1,
   "metadata": {},
   "outputs": [
    {
     "data": {
      "application/vnd.jupyter.widget-view+json": {
       "model_id": "4190f50de24a428f81a05aa312409467",
       "version_major": 2,
       "version_minor": 0
      },
      "text/plain": [
       "JSProxyWidget(status=u'Not yet rendered')"
      ]
     },
     "metadata": {},
     "output_type": "display_data"
    }
   ],
   "source": [
    "import jp_proxy_widget\n",
    "greeter = jp_proxy_widget.JSProxyWidget()\n",
    "greeter.element.html(\"<h2>Hello world</h2>\")\n",
    "greeter.element.css(\"color\", \"magenta\")\n",
    "greeter.element.css(\"background-color\", \"blue\")\n",
    "greeter.element.width(200)\n",
    "greeter"
   ]
  },
  {
   "cell_type": "code",
   "execution_count": 2,
   "metadata": {},
   "outputs": [
    {
     "data": {
      "text/plain": [
       "element"
      ]
     },
     "execution_count": 2,
     "metadata": {},
     "output_type": "execute_result"
    }
   ],
   "source": [
    "# Add a click callback\n",
    "def callback(*ignored_arguments):\n",
    "    greeter.element.html(\"<h1><em>That tickles</em></h1>\")\n",
    "\n",
    "# attach the callback\n",
    "greeter.element.on(\"click\", callback)\n",
    "\n",
    "# Then click the element"
   ]
  },
  {
   "cell_type": "code",
   "execution_count": null,
   "metadata": {},
   "outputs": [],
   "source": []
  }
 ],
 "metadata": {
  "kernelspec": {
   "display_name": "Python 2",
   "language": "python",
   "name": "python2"
  },
  "language_info": {
   "codemirror_mode": {
    "name": "ipython",
    "version": 2
   },
   "file_extension": ".py",
   "mimetype": "text/x-python",
   "name": "python",
   "nbconvert_exporter": "python",
   "pygments_lexer": "ipython2",
   "version": "2.7.15"
  }
 },
 "nbformat": 4,
 "nbformat_minor": 2
}

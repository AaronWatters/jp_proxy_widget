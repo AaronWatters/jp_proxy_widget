{
 "cells": [
  {
   "cell_type": "markdown",
   "metadata": {
    "deletable": true,
    "editable": true
   },
   "source": [
    "# Upload and download widgets\n",
    "\n",
    "The jp_proxy_widget package includes helpers for uploading and downloading\n",
    "files.  An upload moves a file from the \"user workstation area\" to the\n",
    "\"Jupyter server area\".  A download moves a file from the server area to the\n",
    "workstation area.  The widgets also allow the program to control file names\n",
    "and transform or filter file content.\n",
    "\n",
    "\n",
    "# Using the uploader widget: basic usage\n",
    "\n",
    "The following widget uploads a file using the same name on the server\n",
    "as the name from the workstation."
   ]
  },
  {
   "cell_type": "code",
   "execution_count": null,
   "metadata": {
    "collapsed": false,
    "deletable": true,
    "editable": true
   },
   "outputs": [],
   "source": [
    "from jp_proxy_widget import uploader\n",
    "\n",
    "# Make an upload button which uploads a binary file to the same file name\n",
    "upload = uploader.BinaryUploader(\"file to upload\", to_filename=True)\n",
    "upload.widget"
   ]
  },
  {
   "cell_type": "code",
   "execution_count": null,
   "metadata": {
    "collapsed": false,
    "deletable": true,
    "editable": true
   },
   "outputs": [],
   "source": [
    "fn = upload.uploaded_filename\n",
    "if fn:\n",
    "    print (\"This file was uploaded: \" + fn)\n",
    "else:\n",
    "    print (\"No file was uploaded yet.\")"
   ]
  },
  {
   "cell_type": "markdown",
   "metadata": {
    "deletable": true,
    "editable": true
   },
   "source": [
    "# Using the uploader widget: more advanced usage\n",
    "\n",
    "The following demonstrates how to upload a file using the \n",
    "`jp_proxy_widget.uploader.BindaryUploader` widget.  The widget\n",
    "has additional configuration to display information about the uploaded\n",
    "file, to optionally change the file name for the upload, and to display\n",
    "the uploaded image in HTML."
   ]
  },
  {
   "cell_type": "code",
   "execution_count": null,
   "metadata": {
    "collapsed": true,
    "deletable": true,
    "editable": true
   },
   "outputs": [],
   "source": [
    "\n",
    "from IPython.display import HTML, display"
   ]
  },
  {
   "cell_type": "code",
   "execution_count": null,
   "metadata": {
    "collapsed": false,
    "deletable": true,
    "editable": true
   },
   "outputs": [],
   "source": [
    "# Upload a file and try to display it as an image\n",
    "class UploadImage:\n",
    "    \n",
    "    name = None\n",
    "    \n",
    "    def __init__(self):\n",
    "        # Create a widget which displays a button that uploads a binary file.\n",
    "        self.uploader = uploader.BinaryUploader(\n",
    "            html_title=\"upload image\", \n",
    "            content_callback=self.content_callback)\n",
    "        w = self.widget = self.uploader.widget\n",
    "        # Add some Javascript functionality to specify the file name and display results\n",
    "        w.js_init(\"\"\"\n",
    "        \n",
    "        // Add a text input to change the name of the file uploaded.\n",
    "        var name_div = $(\"<div/>\").appendTo(element);\n",
    "        $(\"<b>Upload to this file name: </b>\").appendTo(name_div);\n",
    "        var name_input = $('<input type=\"text\"/>').appendTo(name_div);\n",
    "        \n",
    "        // Add an informational text area and call-in to update it.\n",
    "        var info_area = $(\"<div>Please upload an image file</div>\").appendTo(element);\n",
    "        name_input.on(\"input\", function(e) {change_name(name_input.val())});\n",
    "        element.informational = function(text) {\n",
    "            info_area.html(\"<div>\" + text + \"</div>\");\n",
    "        };\n",
    "        \n",
    "        // Add a call-in used to display the uploaded image.\n",
    "        element.add_html = function(html) {\n",
    "            $(html).appendTo(element);\n",
    "        }\n",
    "        \n",
    "        \"\"\", change_name = self.change_name)\n",
    "        \n",
    "    def change_name(self, name):\n",
    "        \"Store the optional file name from the text input area.\"\n",
    "        self.name = name.strip()\n",
    "        \n",
    "    def content_callback(self, widget, name, content):\n",
    "        \"Perform the upload and display the image uploaded.\"\n",
    "        use_name = name\n",
    "        if self.name:\n",
    "            # use the name override if specified (non-white)\n",
    "            use_name = self.name\n",
    "        info = self.widget.element.informational\n",
    "        info(\"saving \" + repr((len(content), name, use_name)))\n",
    "        # Save the file\n",
    "        f = open(use_name, \"wb\")\n",
    "        f.write(content)\n",
    "        f.close()\n",
    "        # Append HTML to display the image uploaded.\n",
    "        img_html = '<div>Uploaded %s:</div><div><img src=\"%s\"/></div>' % (use_name, use_name)\n",
    "        self.widget.element.add_html(img_html)\n",
    "        "
   ]
  },
  {
   "cell_type": "code",
   "execution_count": null,
   "metadata": {
    "collapsed": false,
    "deletable": true,
    "editable": true
   },
   "outputs": [],
   "source": [
    "u = UploadImage()"
   ]
  },
  {
   "cell_type": "code",
   "execution_count": null,
   "metadata": {
    "collapsed": false,
    "deletable": true,
    "editable": true
   },
   "outputs": [],
   "source": [
    "#u.widget.debugging_display()\n",
    "u.uploader.show()"
   ]
  },
  {
   "cell_type": "markdown",
   "metadata": {
    "collapsed": false,
    "deletable": true,
    "editable": true
   },
   "source": [
    "# Using the downloader widget: basic usage\n",
    "\n",
    "The downloader operation must be executed by an existing proxy widget."
   ]
  },
  {
   "cell_type": "code",
   "execution_count": null,
   "metadata": {
    "collapsed": false,
    "deletable": true,
    "editable": true
   },
   "outputs": [],
   "source": [
    "from jp_proxy_widget import uploader, downloader\n",
    "import jp_proxy_widget\n",
    "\n",
    "# We use this widget to execute the download:\n",
    "the_download_widget = jp_proxy_widget.JSProxyWidget()\n",
    "\n",
    "# The filename and file content we want to download:\n",
    "filename = \"example_file.binary\"\n",
    "content = b\"some binary content \" + bytes(range(14,23)) + bytes(range(244,253))\n",
    "\n",
    "# The download action:\n",
    "def do_download(*ignore_arguments):\n",
    "    downloader.saveAsBinary(the_download_widget, filename, content)\n",
    "    \n",
    "# Configure the widget with a button to trigger the download.\n",
    "the_download_widget.js_init(\"\"\"\n",
    "    element.empty();\n",
    "    button = $(\"<button>Download binary data</button>\").appendTo(element);\n",
    "    button.click(do_download);\n",
    "\"\"\", do_download=do_download)\n",
    "\n",
    "# show the widget\n",
    "#the_download_widget.debugging_display()\n",
    "the_download_widget"
   ]
  },
  {
   "cell_type": "code",
   "execution_count": null,
   "metadata": {
    "collapsed": false,
    "deletable": true,
    "editable": true
   },
   "outputs": [],
   "source": [
    "the_download_widget.print_status()"
   ]
  },
  {
   "cell_type": "code",
   "execution_count": null,
   "metadata": {
    "collapsed": false,
    "deletable": true,
    "editable": true
   },
   "outputs": [],
   "source": []
  },
  {
   "cell_type": "code",
   "execution_count": null,
   "metadata": {
    "collapsed": true,
    "deletable": true,
    "editable": true
   },
   "outputs": [],
   "source": []
  }
 ],
 "metadata": {
  "kernelspec": {
   "display_name": "Python 3",
   "language": "python",
   "name": "python3"
  },
  "language_info": {
   "codemirror_mode": {
    "name": "ipython",
    "version": 3
   },
   "file_extension": ".py",
   "mimetype": "text/x-python",
   "name": "python",
   "nbconvert_exporter": "python",
   "pygments_lexer": "ipython3",
   "version": "3.6.3"
  }
 },
 "nbformat": 4,
 "nbformat_minor": 2
}

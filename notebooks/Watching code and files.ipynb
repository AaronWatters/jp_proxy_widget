{
 "cells": [
  {
   "cell_type": "markdown",
   "metadata": {
    "deletable": true,
    "editable": true
   },
   "source": [
    "# Watching code and files\n",
    "\n",
    "The `jp_proxy_widget` module provides a widget implementation which\n",
    "will report a change when watched files\n",
    "change in the file system.\n",
    "\n",
    "In \"classic notebook\" the watcher implementation will pop up an alert\n",
    "asking if the user wants to reload the notebook after the change.\n",
    "\n",
    "<img src=\"watch_classic.png\" width=\"600px\"/>\n",
    "\n",
    "In Jupyter Lab the watcher will simply report the change without the\n",
    "reload option.\n",
    "\n",
    "<img src=\"watch_lab.png\" width=\"600px\"/>\n",
    "\n",
    "Below is a demonstration of the standard use case for watching\n",
    "Python and Javascript code.  The watcher implementation provides\n",
    "a relatively simple example of a proxy widget."
   ]
  },
  {
   "cell_type": "code",
   "execution_count": null,
   "metadata": {
    "collapsed": true,
    "deletable": true,
    "editable": true
   },
   "outputs": [],
   "source": [
    "from jp_proxy_widget import watcher"
   ]
  },
  {
   "cell_type": "code",
   "execution_count": null,
   "metadata": {
    "collapsed": false,
    "deletable": true,
    "editable": true
   },
   "outputs": [],
   "source": [
    "watcher.watch_code()"
   ]
  },
  {
   "cell_type": "code",
   "execution_count": null,
   "metadata": {
    "collapsed": true,
    "deletable": true,
    "editable": true
   },
   "outputs": [],
   "source": []
  }
 ],
 "metadata": {
  "kernelspec": {
   "display_name": "Python 3",
   "language": "python",
   "name": "python3"
  },
  "language_info": {
   "codemirror_mode": {
    "name": "ipython",
    "version": 3
   },
   "file_extension": ".py",
   "mimetype": "text/x-python",
   "name": "python",
   "nbconvert_exporter": "python",
   "pygments_lexer": "ipython3",
   "version": "3.6.3"
  }
 },
 "nbformat": 4,
 "nbformat_minor": 2
}

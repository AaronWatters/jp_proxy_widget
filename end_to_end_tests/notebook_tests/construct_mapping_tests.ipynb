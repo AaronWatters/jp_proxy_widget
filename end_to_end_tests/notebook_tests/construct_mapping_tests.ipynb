{
 "cells": [
  {
   "cell_type": "markdown",
   "metadata": {},
   "source": [
    "# Python to Javascript construct mapping tests\n",
    "\n",
    "Test that expressions evaluated for widgets in the Python context\n",
    "do something similar to what they would do in Javascript context"
   ]
  },
  {
   "cell_type": "code",
   "execution_count": 1,
   "metadata": {},
   "outputs": [],
   "source": [
    "import jp_proxy_widget\n",
    "\n",
    "from jp_proxy_widget import notebook_test_helpers\n",
    "\n",
    "validators = notebook_test_helpers.ValidationSuite()"
   ]
  },
  {
   "cell_type": "code",
   "execution_count": 2,
   "metadata": {},
   "outputs": [],
   "source": [
    "class Callback:\n",
    "    \n",
    "    def __init__(self):\n",
    "        self.called = False\n",
    "        \n",
    "    def __call__(self, argument=True):\n",
    "        self.called = argument"
   ]
  },
  {
   "cell_type": "markdown",
   "metadata": {},
   "source": [
    "# Chain of attributes"
   ]
  },
  {
   "cell_type": "code",
   "execution_count": 3,
   "metadata": {},
   "outputs": [
    {
     "data": {
      "application/vnd.jupyter.widget-view+json": {
       "model_id": "d871cf2716a24788a76b1fd200cdebcb",
       "version_major": 2,
       "version_minor": 0
      },
      "text/plain": [
       "VBox(children=(JSProxyWidget(status='Not yet rendered'), Text(value='Not yet rendered', description='status:')…"
      ]
     },
     "metadata": {},
     "output_type": "display_data"
    }
   ],
   "source": [
    "ca_widget = jp_proxy_widget.JSProxyWidget()\n",
    "ca_callback = Callback()\n",
    "ca_widget.debugging_display()"
   ]
  },
  {
   "cell_type": "code",
   "execution_count": 4,
   "metadata": {},
   "outputs": [],
   "source": [
    "ca_widget.js_init(\"\"\"\n",
    "    element.html(\"chain of attributes test widget\");\n",
    "    element.A = {};\n",
    "    element.A.B = {};\n",
    "    element.A.B.C = (function() { return callback(); });\n",
    "    \n",
    "    // emulate this:\n",
    "    //element.A.B.C()\n",
    "\"\"\", callback=ca_callback)"
   ]
  },
  {
   "cell_type": "code",
   "execution_count": 5,
   "metadata": {
    "scrolled": false
   },
   "outputs": [],
   "source": [
    "dummy = ca_widget.element.A.B.C()"
   ]
  },
  {
   "cell_type": "code",
   "execution_count": 6,
   "metadata": {},
   "outputs": [],
   "source": [
    "def validate_ca():\n",
    "    assert ca_callback.called is True\n",
    "    print(\"Chain of attributes ok.\")\n",
    "    \n",
    "#validate_ca()\n",
    "validators.add_validation(ca_widget, validate_ca)"
   ]
  },
  {
   "cell_type": "markdown",
   "metadata": {},
   "source": [
    "# Chain of methods"
   ]
  },
  {
   "cell_type": "code",
   "execution_count": 7,
   "metadata": {},
   "outputs": [
    {
     "data": {
      "application/vnd.jupyter.widget-view+json": {
       "model_id": "0e3ec051378b4d3b89f67ac07b62f667",
       "version_major": 2,
       "version_minor": 0
      },
      "text/plain": [
       "VBox(children=(JSProxyWidget(status='Not yet rendered'), Text(value='Not yet rendered', description='status:')…"
      ]
     },
     "metadata": {},
     "output_type": "display_data"
    }
   ],
   "source": [
    "cm_widget = jp_proxy_widget.JSProxyWidget()\n",
    "cm_callback = Callback()\n",
    "\n",
    "cm_widget.js_init(\"\"\"\n",
    "    element.html(\"chain of methods test widget\");\n",
    "    element.A = (\n",
    "        function() {\n",
    "            return {\n",
    "                B: (function() { callback() })\n",
    "            }\n",
    "        }\n",
    "    );\n",
    "    // emulate this:\n",
    "    //element.A().B()\n",
    "\"\"\", callback=cm_callback)\n",
    "\n",
    "a = cm_widget.element.A()\n",
    "\n",
    "ab = cm_widget.element.A().B()\n",
    "\n",
    "cm_widget.debugging_display()"
   ]
  },
  {
   "cell_type": "code",
   "execution_count": 8,
   "metadata": {},
   "outputs": [
    {
     "data": {
      "text/plain": [
       "(FragileReference(140209362663800), FragileReference(140209362664136))"
      ]
     },
     "execution_count": 8,
     "metadata": {},
     "output_type": "execute_result"
    }
   ],
   "source": [
    "def validate_cm():\n",
    "    assert cm_callback.called is True\n",
    "    print(\"Chain of methods ok.\")\n",
    "    \n",
    "#validate_cm()\n",
    "validators.add_validation(cm_widget, validate_cm)\n",
    "a, ab"
   ]
  },
  {
   "cell_type": "code",
   "execution_count": 9,
   "metadata": {},
   "outputs": [
    {
     "name": "stdout",
     "output_type": "stream",
     "text": [
      "As expected: you can't use a fragile javascript reference outside a chained expression.\n"
     ]
    }
   ],
   "source": [
    "try:\n",
    "    a()\n",
    "except jp_proxy_widget.StaleFragileJavascriptReference:\n",
    "    print (\"As expected: you can't use a fragile javascript reference outside a chained expression.\")\n",
    "else:\n",
    "    raise SystemError(\"Oops: We should have gotten a StaleFragileJavascriptReference raised here.\")"
   ]
  },
  {
   "cell_type": "markdown",
   "metadata": {},
   "source": [
    "# Chained attribute/method"
   ]
  },
  {
   "cell_type": "code",
   "execution_count": 10,
   "metadata": {},
   "outputs": [
    {
     "data": {
      "application/vnd.jupyter.widget-view+json": {
       "model_id": "d7f8a9a857ff47c19c48764a68b7a3ed",
       "version_major": 2,
       "version_minor": 0
      },
      "text/plain": [
       "VBox(children=(JSProxyWidget(status='Not yet rendered'), Text(value='Not yet rendered', description='status:')…"
      ]
     },
     "metadata": {},
     "output_type": "display_data"
    }
   ],
   "source": [
    "cam_widget = jp_proxy_widget.JSProxyWidget()\n",
    "cam_callback = Callback()\n",
    "\n",
    "cam_widget.js_init(\"\"\"\n",
    "    element.html(\"chain of object with a function attribute\");\n",
    "    element.A = {\n",
    "        B: function(f) { f(\"expected value\") }\n",
    "    };\n",
    "    element\n",
    "    // emulate this:\n",
    "    //element.A.B(cam_callback)\n",
    "\"\"\", cam_callback=cam_callback)\n",
    "\n",
    "#ab = cam_widget.element.A().B()\n",
    "\n",
    "cam_widget.debugging_display()"
   ]
  },
  {
   "cell_type": "code",
   "execution_count": 11,
   "metadata": {},
   "outputs": [
    {
     "data": {
      "text/plain": [
       "FragileReference(140209362726360)"
      ]
     },
     "execution_count": 11,
     "metadata": {},
     "output_type": "execute_result"
    }
   ],
   "source": [
    "cam_widget.element.A.B(cam_callback)"
   ]
  },
  {
   "cell_type": "code",
   "execution_count": 12,
   "metadata": {},
   "outputs": [],
   "source": [
    "def validate_cam():\n",
    "    assert cam_callback.called == \"expected value\"\n",
    "    print(\"Chain of attribute/function ok.\")\n",
    "    \n",
    "#validate_cam()\n",
    "validators.add_validation(cam_widget, validate_cam)"
   ]
  },
  {
   "cell_type": "code",
   "execution_count": 13,
   "metadata": {},
   "outputs": [
    {
     "name": "stdout",
     "output_type": "stream",
     "text": [
      "sleeping in kernel interface...\n",
      "initializing validator widget.\n"
     ]
    },
    {
     "data": {
      "application/vnd.jupyter.widget-view+json": {
       "model_id": "69c2e9f46a0940daac15d4a2c375ffc1",
       "version_major": 2,
       "version_minor": 0
      },
      "text/plain": [
       "VBox(children=(JSProxyWidget(status='Not yet rendered'), Text(value='Not yet rendered', description='status:')…"
      ]
     },
     "metadata": {},
     "output_type": "display_data"
    }
   ],
   "source": [
    "delay_ms = 1000\n",
    "validators.run_all_in_widget(delay_ms=delay_ms)"
   ]
  }
 ],
 "metadata": {
  "kernelspec": {
   "display_name": "Python 3",
   "language": "python",
   "name": "python3"
  },
  "language_info": {
   "codemirror_mode": {
    "name": "ipython",
    "version": 3
   },
   "file_extension": ".py",
   "mimetype": "text/x-python",
   "name": "python",
   "nbconvert_exporter": "python",
   "pygments_lexer": "ipython3",
   "version": "3.6.8"
  }
 },
 "nbformat": 4,
 "nbformat_minor": 4
}

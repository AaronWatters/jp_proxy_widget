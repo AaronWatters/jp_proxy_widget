{
 "cells": [
  {
   "cell_type": "markdown",
   "metadata": {},
   "source": [
    "# Python to Javascript construct mapping tests\n",
    "\n",
    "Test that expressions evaluated for widgets in the Python context\n",
    "do something similar to what they would do in Javascript context"
   ]
  },
  {
   "cell_type": "code",
   "execution_count": null,
   "metadata": {},
   "outputs": [],
   "source": [
    "import jp_proxy_widget\n",
    "\n",
    "from jp_proxy_widget import notebook_test_helpers\n",
    "\n",
    "validators = notebook_test_helpers.ValidationSuite()"
   ]
  },
  {
   "cell_type": "code",
   "execution_count": null,
   "metadata": {},
   "outputs": [],
   "source": [
    "class Callback:\n",
    "    \n",
    "    def __init__(self):\n",
    "        self.called = False\n",
    "        \n",
    "    def __call__(self, argument=True):\n",
    "        print(\"callback called with: \" + repr(argument))\n",
    "        self.called = argument\n",
    "    "
   ]
  },
  {
   "cell_type": "markdown",
   "metadata": {},
   "source": [
    "# Call setTimeout with callback"
   ]
  },
  {
   "cell_type": "code",
   "execution_count": null,
   "metadata": {},
   "outputs": [],
   "source": [
    "import time\n",
    "t_start = time.time()\n",
    "t_end = None\n",
    "\n",
    "def t_callback():\n",
    "    global t_end\n",
    "    t_end = time.time()\n",
    "    t_widget.element.html(\"Start and end: \" + repr((t_start, t_end, t_end-t_start)))\n",
    "    \n",
    "def t_validate():\n",
    "    assert t_end is not None, \"no t_end\"\n",
    "    assert (t_end - t_start) > 0.5, repr((\"bad timing\", t_start, t_end, t_end - t_start))\n",
    "    print (\"setTimeout ok.\")\n",
    "    \n",
    "t_widget = jp_proxy_widget.JSProxyWidget()\n",
    "#t_widget.verbose = True\n",
    "t_widget.debugging_display()"
   ]
  },
  {
   "cell_type": "code",
   "execution_count": null,
   "metadata": {},
   "outputs": [],
   "source": [
    "t_widget.setTimeout(t_callback, 500)  # half a second\n",
    "\n",
    "validators.add_validation(t_widget, t_validate)"
   ]
  },
  {
   "cell_type": "markdown",
   "metadata": {},
   "source": [
    "# Get the page title"
   ]
  },
  {
   "cell_type": "code",
   "execution_count": null,
   "metadata": {},
   "outputs": [],
   "source": [
    "pt_widget = jp_proxy_widget.JSProxyWidget()\n",
    "pt_callback = Callback()\n",
    "pt_widget.save(\"js_callback\", pt_callback)\n",
    "pt_widget.element.html(\"Page title getter widget\")\n",
    "pt_widget.debugging_display()"
   ]
  },
  {
   "cell_type": "code",
   "execution_count": null,
   "metadata": {},
   "outputs": [],
   "source": [
    "# send the title to the callback\n",
    "ptelement = pt_widget.element\n",
    "ptelement.js_callback(ptelement.window.document.title)"
   ]
  },
  {
   "cell_type": "code",
   "execution_count": null,
   "metadata": {},
   "outputs": [],
   "source": [
    "#ptelement.html(\"Got title: \" + repr(pt_callback.called))\n",
    "#pt_callback.called"
   ]
  },
  {
   "cell_type": "code",
   "execution_count": null,
   "metadata": {},
   "outputs": [],
   "source": [
    "def validate_pt():\n",
    "    assert type(pt_callback.called) is str \n",
    "    ptelement.js_callback(ptelement.window.document.title)\n",
    "    print(\"Got title ok.\")\n",
    "    \n",
    "validators.add_validation(pt_widget, validate_pt)"
   ]
  },
  {
   "cell_type": "markdown",
   "metadata": {},
   "source": [
    "# Chain of attributes"
   ]
  },
  {
   "cell_type": "code",
   "execution_count": null,
   "metadata": {},
   "outputs": [],
   "source": [
    "ca_widget = jp_proxy_widget.JSProxyWidget()\n",
    "ca_callback = Callback()\n",
    "ca_widget.debugging_display()"
   ]
  },
  {
   "cell_type": "code",
   "execution_count": null,
   "metadata": {},
   "outputs": [],
   "source": [
    "ca_widget.js_init(\"\"\"\n",
    "    element.html(\"chain of attributes test widget\");\n",
    "    element.A = {};\n",
    "    element.A.B = {};\n",
    "    element.A.B.C = (function() { return callback(); });\n",
    "    \n",
    "    // emulate this:\n",
    "    //element.A.B.C()\n",
    "\"\"\", callback=ca_callback)"
   ]
  },
  {
   "cell_type": "code",
   "execution_count": null,
   "metadata": {},
   "outputs": [],
   "source": [
    "dummy = ca_widget.element.A.B.C()"
   ]
  },
  {
   "cell_type": "code",
   "execution_count": null,
   "metadata": {},
   "outputs": [],
   "source": [
    "def validate_ca():\n",
    "    assert ca_callback.called is True\n",
    "    print(\"Chain of attributes ok.\")\n",
    "    \n",
    "#validate_ca()\n",
    "validators.add_validation(ca_widget, validate_ca)"
   ]
  },
  {
   "cell_type": "markdown",
   "metadata": {},
   "source": [
    "# Multiple references"
   ]
  },
  {
   "cell_type": "code",
   "execution_count": null,
   "metadata": {},
   "outputs": [],
   "source": [
    "mr_widget = jp_proxy_widget.JSProxyWidget()\n",
    "mr_callback = Callback()\n",
    "mr_widget.debugging_display()"
   ]
  },
  {
   "cell_type": "code",
   "execution_count": null,
   "metadata": {},
   "outputs": [],
   "source": [
    "mr_widget.js_init(\"\"\"\n",
    "    element.html(\"chain of attributes test widget\");\n",
    "    element.A = {};\n",
    "    element.A.B = {};\n",
    "    element.A.B.C = (function(x) { return callback(x); });\n",
    "    \n",
    "    // emulate this:\n",
    "    //var r = element.A.B.C;\n",
    "    //r(\"first\");\n",
    "    //r(\"second\");\n",
    "    //r(\"third\")\n",
    "\"\"\", callback=mr_callback)"
   ]
  },
  {
   "cell_type": "code",
   "execution_count": null,
   "metadata": {},
   "outputs": [],
   "source": [
    "#mr_widget.verbose = True\n",
    "r = mr_widget.element.A.B.C"
   ]
  },
  {
   "cell_type": "code",
   "execution_count": null,
   "metadata": {},
   "outputs": [],
   "source": [
    "r(\"first\")"
   ]
  },
  {
   "cell_type": "code",
   "execution_count": null,
   "metadata": {},
   "outputs": [],
   "source": [
    "r(\"second\")"
   ]
  },
  {
   "cell_type": "code",
   "execution_count": null,
   "metadata": {},
   "outputs": [],
   "source": [
    "r(\"third\")"
   ]
  },
  {
   "cell_type": "markdown",
   "metadata": {},
   "source": [
    "# Chain of functions"
   ]
  },
  {
   "cell_type": "code",
   "execution_count": null,
   "metadata": {},
   "outputs": [],
   "source": [
    "cm_widget = jp_proxy_widget.JSProxyWidget()\n",
    "cm_callback = Callback()\n",
    "\n",
    "cm_widget.js_init(\"\"\"\n",
    "    element.html(\"chain of functions test widget\");\n",
    "    element.A = (\n",
    "        function() {\n",
    "            return {\n",
    "                B: (function() { callback() })\n",
    "            }\n",
    "        }\n",
    "    );\n",
    "    // emulate this:\n",
    "    //element.A().B()\n",
    "\"\"\", callback=cm_callback)\n",
    "\n",
    "# Exercise the delay_flush feature\n",
    "\n",
    "with cm_widget.delay_flush():\n",
    "    a = cm_widget.element.A()\n",
    "    ab = cm_widget.element.A().B()\n",
    "\n",
    "cm_widget.debugging_display()"
   ]
  },
  {
   "cell_type": "code",
   "execution_count": null,
   "metadata": {},
   "outputs": [],
   "source": [
    "def validate_cm():\n",
    "    assert cm_callback.called is True\n",
    "    print(\"Chain of functions ok.\")\n",
    "    \n",
    "#validate_cm()\n",
    "validators.add_validation(cm_widget, validate_cm)\n",
    "a, ab"
   ]
  },
  {
   "cell_type": "code",
   "execution_count": null,
   "metadata": {},
   "outputs": [],
   "source": [
    "\"\"\"\n",
    "try:\n",
    "    a()\n",
    "except jp_proxy_widget.StaleFragileJavascriptReference:\n",
    "    print (\"As expected: you can't use a fragile javascript reference outside a chained expression.\")\n",
    "else:\n",
    "    raise SystemError(\"Oops: We should have gotten a StaleFragileJavascriptReference raised here.\")\n",
    "    \"\"\""
   ]
  },
  {
   "cell_type": "markdown",
   "metadata": {},
   "source": [
    "# Chained attribute/function"
   ]
  },
  {
   "cell_type": "code",
   "execution_count": null,
   "metadata": {},
   "outputs": [],
   "source": [
    "cam_widget = jp_proxy_widget.JSProxyWidget()\n",
    "cam_callback = Callback()\n",
    "\n",
    "cam_widget.js_init(\"\"\"\n",
    "    element.html(\"chain of object with a function attribute\");\n",
    "    element.A = {\n",
    "        B: function(f) { f(\"expected value\") }\n",
    "    }\n",
    "    // emulate this:\n",
    "    //element.A.B(cam_callback)\n",
    "\"\"\", cam_callback=cam_callback)\n",
    "\n",
    "#ab = cam_widget.element.A().B()\n",
    "\n",
    "cam_widget.debugging_display()"
   ]
  },
  {
   "cell_type": "code",
   "execution_count": null,
   "metadata": {},
   "outputs": [],
   "source": [
    "cam_widget.element.A.B(cam_callback)"
   ]
  },
  {
   "cell_type": "code",
   "execution_count": null,
   "metadata": {},
   "outputs": [],
   "source": [
    "def validate_cam():\n",
    "    assert cam_callback.called == \"expected value\"\n",
    "    print(\"Chain of attribute/function ok.\")\n",
    "    \n",
    "#validate_cam()\n",
    "validators.add_validation(cam_widget, validate_cam)"
   ]
  },
  {
   "cell_type": "markdown",
   "metadata": {},
   "source": [
    "# Chained method of method"
   ]
  },
  {
   "cell_type": "code",
   "execution_count": null,
   "metadata": {},
   "outputs": [],
   "source": [
    "mm_widget = jp_proxy_widget.JSProxyWidget()\n",
    "mm_callback = Callback()\n",
    "\n",
    "mm_widget.js_init(\"\"\"\n",
    "    element.html(\"chain method of method\");\n",
    "    class A_class {\n",
    "        constructor(name) {\n",
    "            this.name = name;\n",
    "        };\n",
    "        get_name() {\n",
    "            return this.name;\n",
    "        };\n",
    "        B(othername) {\n",
    "            return new B_class(this, othername);\n",
    "        };\n",
    "    };\n",
    "    class B_class {\n",
    "        constructor(parent, name) {\n",
    "            this.parent = parent;\n",
    "            this.name = name;\n",
    "        };\n",
    "        send_names(to_callback) {\n",
    "            return to_callback(this.parent.get_name() + \",\" + this.name)\n",
    "        }\n",
    "    }\n",
    "    element.A = new A_class(\"Aname\");\n",
    "    element.callback = mm_callback\n",
    "    // emulate this:\n",
    "    //element.A.B(\"Bname\").send_names(element.callback)\n",
    "\"\"\", mm_callback=mm_callback)\n",
    "\n",
    "mm_widget.debugging_display()"
   ]
  },
  {
   "cell_type": "code",
   "execution_count": null,
   "metadata": {},
   "outputs": [],
   "source": [
    "mm_element = mm_widget.element\n",
    "mm_element.A.B(\"Bname\").send_names(mm_element.callback)"
   ]
  },
  {
   "cell_type": "code",
   "execution_count": null,
   "metadata": {},
   "outputs": [],
   "source": [
    "def validate_mm():\n",
    "    assert mm_callback.called == 'Aname,Bname'\n",
    "    print(\"Chain method of method ok.\")\n",
    "    \n",
    "#validate_cam()\n",
    "validators.add_validation(mm_widget, validate_mm)\n",
    "\n",
    "#mm_callback.called"
   ]
  },
  {
   "cell_type": "code",
   "execution_count": null,
   "metadata": {},
   "outputs": [],
   "source": [
    "delay_ms = 1000\n",
    "validators.run_all_in_widget(delay_ms=delay_ms)"
   ]
  }
 ],
 "metadata": {
  "kernelspec": {
   "display_name": "Python 3",
   "language": "python",
   "name": "python3"
  },
  "language_info": {
   "codemirror_mode": {
    "name": "ipython",
    "version": 3
   },
   "file_extension": ".py",
   "mimetype": "text/x-python",
   "name": "python",
   "nbconvert_exporter": "python",
   "pygments_lexer": "ipython3",
   "version": "3.6.8"
  }
 },
 "nbformat": 4,
 "nbformat_minor": 4
}

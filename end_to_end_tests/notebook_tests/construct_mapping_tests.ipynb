{
 "cells": [
  {
   "cell_type": "markdown",
   "metadata": {},
   "source": [
    "# Python to Javascript construct mapping tests\n",
    "\n",
    "Test that expressions evaluated for widgets in the Python context\n",
    "do something similar to what they would do in Javascript context"
   ]
  },
  {
   "cell_type": "code",
   "execution_count": null,
   "metadata": {},
   "outputs": [],
   "source": [
    "import jp_proxy_widget\n",
    "\n",
    "from jp_proxy_widget import notebook_test_helpers\n",
    "\n",
    "validators = notebook_test_helpers.ValidationSuite()"
   ]
  },
  {
   "cell_type": "code",
   "execution_count": null,
   "metadata": {},
   "outputs": [],
   "source": [
    "class Callback:\n",
    "    \n",
    "    def __init__(self):\n",
    "        self.called = False\n",
    "        \n",
    "    def __call__(self, argument=True):\n",
    "        print(\"callback called with: \" + repr(argument))\n",
    "        self.called = argument\n",
    "        \n",
    "        "
   ]
  },
  {
   "cell_type": "markdown",
   "metadata": {},
   "source": [
    "# in_dialog"
   ]
  },
  {
   "cell_type": "code",
   "execution_count": null,
   "metadata": {},
   "outputs": [],
   "source": [
    "id_widget = jp_proxy_widget.JSProxyWidget()\n",
    "id_counter = 1\n",
    "def id_click(*arguments):\n",
    "    global id_counter\n",
    "    id_counter += 1\n",
    "    id_widget.element.html(\"Modal Dialog Counter = \" + repr(id_counter))\n",
    "id_click()\n",
    "id_widget.in_dialog(\n",
    "    title=\"A Counter\",\n",
    "    autoOpen=False,\n",
    "    buttons=dict(Increment=id_click),\n",
    "    height=150,\n",
    "    width=600,\n",
    "    modal=True,\n",
    "    show=dict(effect=\"blind\", duration=1000),\n",
    "    hide=dict(effect=\"fade\", duration=1000),\n",
    ")\n",
    "# The widget will be hidden becaues autoOpen=False\n",
    "id_widget"
   ]
  },
  {
   "cell_type": "code",
   "execution_count": null,
   "metadata": {},
   "outputs": [],
   "source": [
    "id_widget.element.dialog(\"open\")  # modal dialog -- must close"
   ]
  },
  {
   "cell_type": "code",
   "execution_count": null,
   "metadata": {},
   "outputs": [],
   "source": [
    "id_widget.element.dialog(\"close\")\n",
    "isOpen = id_widget.element.dialog(\"isOpen\").sync_value()\n",
    "assert isOpen == False, repr(isOpen)"
   ]
  },
  {
   "cell_type": "markdown",
   "metadata": {},
   "source": [
    "# on_rendered"
   ]
  },
  {
   "cell_type": "code",
   "execution_count": null,
   "metadata": {},
   "outputs": [],
   "source": [
    "or_widget = jp_proxy_widget.JSProxyWidget()\n",
    "or_callback = Callback()\n",
    "or_widget.element.html(\"on_rendered test widget\")\n",
    "or_widget.on_rendered(or_callback, \"garbanzo\")\n",
    "assert (not or_widget.rendered) and (not or_callback.called)\n",
    "or_widget"
   ]
  },
  {
   "cell_type": "code",
   "execution_count": null,
   "metadata": {},
   "outputs": [],
   "source": [
    "def validate_or():\n",
    "    assert or_widget.rendered and or_callback.called==\"garbanzo\"\n",
    "    print(\"on_rendered ok.\")\n",
    "    \n",
    "#validate_or()\n",
    "validators.add_validation(or_widget, validate_or)"
   ]
  },
  {
   "cell_type": "markdown",
   "metadata": {},
   "source": [
    "# Synchronous error"
   ]
  },
  {
   "cell_type": "code",
   "execution_count": null,
   "metadata": {},
   "outputs": [],
   "source": [
    "se_widget = jp_proxy_widget.JSProxyWidget()\n",
    "#pts_widget.verbose = True\n",
    "se_widget.element.html(\"Sync error test widget\")\n",
    "\n",
    "es_returned = None\n",
    "se_widget.debugging_display()"
   ]
  },
  {
   "cell_type": "code",
   "execution_count": null,
   "metadata": {},
   "outputs": [],
   "source": [
    "#pts_widget.verbose = True\n",
    "seelement = se_widget.element\n",
    "\n",
    "err_expr = seelement.window.document.THERE_IS_NO_SUCH_METHOD(123, \"HELLO\")\n",
    "try:\n",
    "    se_returned = err_expr.sync_value(ms_delay=50)\n",
    "except jp_proxy_widget.JavascriptException as e:\n",
    "    print(\"got expected error: \" + repr(e))\n",
    "else:\n",
    "    raise RuntimeError(\"SHOULD HAVE GOTTEN EXCEPTION, BUT GOT VALUE: \" + repr(se_returned))"
   ]
  },
  {
   "cell_type": "markdown",
   "metadata": {},
   "source": [
    "# Call setTimeout with callback"
   ]
  },
  {
   "cell_type": "code",
   "execution_count": null,
   "metadata": {},
   "outputs": [],
   "source": [
    "import time\n",
    "t_start = time.time()\n",
    "t_end = None\n",
    "\n",
    "def t_callback():\n",
    "    global t_end\n",
    "    t_end = time.time()\n",
    "    t_widget.element.html(\"Start and end: \" + repr((t_start, t_end, t_end-t_start)))\n",
    "    \n",
    "def t_validate():\n",
    "    assert t_end is not None, \"no t_end\"\n",
    "    assert (t_end - t_start) > 0.5, repr((\"bad timing\", t_start, t_end, t_end - t_start))\n",
    "    print (\"setTimeout ok.\")\n",
    "    \n",
    "t_widget = jp_proxy_widget.JSProxyWidget()\n",
    "#t_widget.verbose = True\n",
    "t_widget.debugging_display()"
   ]
  },
  {
   "cell_type": "code",
   "execution_count": null,
   "metadata": {},
   "outputs": [],
   "source": [
    "t_widget.setTimeout(t_callback, 500)  # half a second\n",
    "\n",
    "validators.add_validation(t_widget, t_validate)"
   ]
  },
  {
   "cell_type": "markdown",
   "metadata": {},
   "source": [
    "# Get the page title"
   ]
  },
  {
   "cell_type": "code",
   "execution_count": null,
   "metadata": {},
   "outputs": [],
   "source": [
    "pt_widget = jp_proxy_widget.JSProxyWidget()\n",
    "pt_callback = Callback()\n",
    "pt_widget.save(\"js_callback\", pt_callback)\n",
    "pt_widget.element.html(\"Page title getter widget\")\n",
    "pt_widget.debugging_display()"
   ]
  },
  {
   "cell_type": "code",
   "execution_count": null,
   "metadata": {},
   "outputs": [],
   "source": [
    "# send the title to the callback\n",
    "ptelement = pt_widget.element\n",
    "ptelement.js_callback(ptelement.window.document.title)"
   ]
  },
  {
   "cell_type": "code",
   "execution_count": null,
   "metadata": {},
   "outputs": [],
   "source": [
    "#ptelement.html(\"Got title: \" + repr(pt_callback.called))\n",
    "#pt_callback.called"
   ]
  },
  {
   "cell_type": "code",
   "execution_count": null,
   "metadata": {},
   "outputs": [],
   "source": [
    "def validate_pt():\n",
    "    assert type(pt_callback.called) is str \n",
    "    print(\"Got title ok.\")\n",
    "    \n",
    "validators.add_validation(pt_widget, validate_pt)"
   ]
  },
  {
   "cell_type": "markdown",
   "metadata": {},
   "source": [
    "# Get page title synchronously"
   ]
  },
  {
   "cell_type": "code",
   "execution_count": null,
   "metadata": {},
   "outputs": [],
   "source": [
    "pts_widget = jp_proxy_widget.JSProxyWidget()\n",
    "#pts_widget.verbose = True\n",
    "pts_widget.element.html(\"Page title sync getter widget\")\n",
    "\n",
    "title = None\n",
    "pts_widget.debugging_display()"
   ]
  },
  {
   "cell_type": "code",
   "execution_count": null,
   "metadata": {},
   "outputs": [],
   "source": [
    "\n",
    "#pts_widget.verbose = True\n",
    "ptselement = pts_widget.element\n",
    "\n",
    "title_cmd = ptselement.window.document.title\n",
    "title = title_cmd.sync_value()\n",
    "title"
   ]
  },
  {
   "cell_type": "code",
   "execution_count": null,
   "metadata": {},
   "outputs": [],
   "source": [
    "print(\"title = \", repr(title))\n",
    "#pts_widget.verbose = True\n",
    "dummy = ptselement.window.console.log(\"Test call to the console.log...\")\n",
    "title2 = title_cmd.sync_value()\n",
    "assert title == title2\n",
    "print (pts_widget._synced_command_result)\n",
    "\n",
    "def validate_pts():\n",
    "    assert type(title) is str\n",
    "    assert title == title2\n",
    "    print(\"Got title synchronously ok.\")\n",
    "    \n",
    "validators.add_validation(pts_widget, validate_pts)"
   ]
  },
  {
   "cell_type": "markdown",
   "metadata": {},
   "source": [
    "# Chain of attributes"
   ]
  },
  {
   "cell_type": "code",
   "execution_count": null,
   "metadata": {},
   "outputs": [],
   "source": [
    "ca_widget = jp_proxy_widget.JSProxyWidget()\n",
    "ca_callback = Callback()\n",
    "ca_widget.debugging_display()"
   ]
  },
  {
   "cell_type": "code",
   "execution_count": null,
   "metadata": {},
   "outputs": [],
   "source": [
    "ca_widget.js_init(\"\"\"\n",
    "    element.html(\"chain of attributes test widget\");\n",
    "    element.A = {};\n",
    "    element.A.B = {};\n",
    "    element.A.B.C = (function() { return callback(); });\n",
    "    \n",
    "    // emulate this:\n",
    "    //element.A.B.C()\n",
    "\"\"\", callback=ca_callback)"
   ]
  },
  {
   "cell_type": "code",
   "execution_count": null,
   "metadata": {},
   "outputs": [],
   "source": [
    "dummy = ca_widget.element.A.B.C()"
   ]
  },
  {
   "cell_type": "code",
   "execution_count": null,
   "metadata": {},
   "outputs": [],
   "source": [
    "def validate_ca():\n",
    "    assert ca_callback.called is True\n",
    "    print(\"Chain of attributes ok.\")\n",
    "    \n",
    "#validate_ca()\n",
    "validators.add_validation(ca_widget, validate_ca)"
   ]
  },
  {
   "cell_type": "markdown",
   "metadata": {},
   "source": [
    "# Multiple references"
   ]
  },
  {
   "cell_type": "code",
   "execution_count": null,
   "metadata": {},
   "outputs": [],
   "source": [
    "mr_widget = jp_proxy_widget.JSProxyWidget()\n",
    "mr_callback = Callback()\n",
    "mr_widget.debugging_display()"
   ]
  },
  {
   "cell_type": "code",
   "execution_count": null,
   "metadata": {},
   "outputs": [],
   "source": [
    "mr_widget.js_init(\"\"\"\n",
    "    element.html(\"chain of attributes test widget\");\n",
    "    element.A = {};\n",
    "    element.A.B = {};\n",
    "    element.A.B.C = (function(x) { return callback(x); });\n",
    "    \n",
    "    // emulate this:\n",
    "    //var r = element.A.B.C;\n",
    "    //r(\"first\");\n",
    "    //r(\"second\");\n",
    "    //r(\"third\")\n",
    "\"\"\", callback=mr_callback)"
   ]
  },
  {
   "cell_type": "code",
   "execution_count": null,
   "metadata": {},
   "outputs": [],
   "source": [
    "#mr_widget.verbose = True\n",
    "r = mr_widget.element.A.B.C"
   ]
  },
  {
   "cell_type": "code",
   "execution_count": null,
   "metadata": {},
   "outputs": [],
   "source": [
    "r(\"first\")"
   ]
  },
  {
   "cell_type": "code",
   "execution_count": null,
   "metadata": {},
   "outputs": [],
   "source": [
    "r(\"second\")"
   ]
  },
  {
   "cell_type": "code",
   "execution_count": null,
   "metadata": {},
   "outputs": [],
   "source": [
    "r(\"third\")"
   ]
  },
  {
   "cell_type": "markdown",
   "metadata": {},
   "source": [
    "# Chain of functions"
   ]
  },
  {
   "cell_type": "code",
   "execution_count": null,
   "metadata": {},
   "outputs": [],
   "source": [
    "cm_widget = jp_proxy_widget.JSProxyWidget()\n",
    "cm_callback = Callback()\n",
    "\n",
    "cm_widget.js_init(\"\"\"\n",
    "    element.html(\"chain of functions test widget\");\n",
    "    element.A = (\n",
    "        function() {\n",
    "            return {\n",
    "                B: (function() { callback() })\n",
    "            }\n",
    "        }\n",
    "    );\n",
    "    // emulate this:\n",
    "    //element.A().B()\n",
    "\"\"\", callback=cm_callback)\n",
    "\n",
    "# Exercise the delay_flush feature\n",
    "\n",
    "with cm_widget.delay_flush():\n",
    "    a = cm_widget.element.A()\n",
    "    ab = cm_widget.element.A().B()\n",
    "\n",
    "cm_widget.debugging_display()"
   ]
  },
  {
   "cell_type": "code",
   "execution_count": null,
   "metadata": {},
   "outputs": [],
   "source": [
    "def validate_cm():\n",
    "    assert cm_callback.called is True\n",
    "    print(\"Chain of functions ok.\")\n",
    "    \n",
    "#validate_cm()\n",
    "validators.add_validation(cm_widget, validate_cm)\n",
    "a, ab"
   ]
  },
  {
   "cell_type": "code",
   "execution_count": null,
   "metadata": {},
   "outputs": [],
   "source": [
    "dummy = \"\"\"\n",
    "try:\n",
    "    a()\n",
    "except jp_proxy_widget.StaleFragileJavascriptReference:\n",
    "    print (\"As expected: you can't use a fragile javascript reference outside a chained expression.\")\n",
    "else:\n",
    "    raise SystemError(\"Oops: We should have gotten a StaleFragileJavascriptReference raised here.\")\n",
    "    \"\"\""
   ]
  },
  {
   "cell_type": "markdown",
   "metadata": {},
   "source": [
    "# Chained attribute/function"
   ]
  },
  {
   "cell_type": "code",
   "execution_count": null,
   "metadata": {},
   "outputs": [],
   "source": [
    "cam_widget = jp_proxy_widget.JSProxyWidget()\n",
    "cam_callback = Callback()\n",
    "\n",
    "cam_widget.js_init(\"\"\"\n",
    "    element.html(\"chain of object with a function attribute\");\n",
    "    element.A = {\n",
    "        B: function(f) { f(\"expected value\") }\n",
    "    }\n",
    "    // emulate this:\n",
    "    //element.A.B(cam_callback)\n",
    "\"\"\", cam_callback=cam_callback)\n",
    "\n",
    "#ab = cam_widget.element.A().B()\n",
    "\n",
    "cam_widget.debugging_display()"
   ]
  },
  {
   "cell_type": "code",
   "execution_count": null,
   "metadata": {},
   "outputs": [],
   "source": [
    "cam_widget.element.A.B(cam_callback)"
   ]
  },
  {
   "cell_type": "code",
   "execution_count": null,
   "metadata": {},
   "outputs": [],
   "source": [
    "def validate_cam():\n",
    "    assert cam_callback.called == \"expected value\"\n",
    "    print(\"Chain of attribute/function ok.\")\n",
    "    \n",
    "#validate_cam()\n",
    "validators.add_validation(cam_widget, validate_cam)"
   ]
  },
  {
   "cell_type": "markdown",
   "metadata": {},
   "source": [
    "# Chained method of method"
   ]
  },
  {
   "cell_type": "code",
   "execution_count": null,
   "metadata": {},
   "outputs": [],
   "source": [
    "mm_widget = jp_proxy_widget.JSProxyWidget()\n",
    "mm_callback = Callback()\n",
    "\n",
    "mm_widget.js_init(\"\"\"\n",
    "    element.html(\"chain method of method\");\n",
    "    class A_class {\n",
    "        constructor(name) {\n",
    "            this.name = name;\n",
    "        };\n",
    "        get_name() {\n",
    "            return this.name;\n",
    "        };\n",
    "        B(othername) {\n",
    "            return new B_class(this, othername);\n",
    "        };\n",
    "    };\n",
    "    class B_class {\n",
    "        constructor(parent, name) {\n",
    "            this.parent = parent;\n",
    "            this.name = name;\n",
    "        };\n",
    "        send_names(to_callback) {\n",
    "            return to_callback(this.parent.get_name() + \",\" + this.name)\n",
    "        }\n",
    "    }\n",
    "    element.A = new A_class(\"Aname\");\n",
    "    element.callback = mm_callback\n",
    "    // emulate this:\n",
    "    //element.A.B(\"Bname\").send_names(element.callback)\n",
    "\"\"\", mm_callback=mm_callback)\n",
    "\n",
    "mm_widget.debugging_display()"
   ]
  },
  {
   "cell_type": "code",
   "execution_count": null,
   "metadata": {},
   "outputs": [],
   "source": [
    "mm_element = mm_widget.element\n",
    "mm_element.A.B(\"Bname\").send_names(mm_element.callback)"
   ]
  },
  {
   "cell_type": "code",
   "execution_count": null,
   "metadata": {},
   "outputs": [],
   "source": [
    "def validate_mm():\n",
    "    assert mm_callback.called == 'Aname,Bname'\n",
    "    print(\"Chain method of method ok.\")\n",
    "    \n",
    "#validate_cam()\n",
    "validators.add_validation(mm_widget, validate_mm)\n",
    "\n",
    "#mm_callback.called"
   ]
  },
  {
   "cell_type": "code",
   "execution_count": null,
   "metadata": {},
   "outputs": [],
   "source": [
    "delay_ms = 1000\n",
    "validators.run_all_in_widget(delay_ms=delay_ms)"
   ]
  }
 ],
 "metadata": {
  "kernelspec": {
   "display_name": "Python 3",
   "language": "python",
   "name": "python3"
  },
  "language_info": {
   "codemirror_mode": {
    "name": "ipython",
    "version": 3
   },
   "file_extension": ".py",
   "mimetype": "text/x-python",
   "name": "python",
   "nbconvert_exporter": "python",
   "pygments_lexer": "ipython3",
   "version": "3.6.8"
  }
 },
 "nbformat": 4,
 "nbformat_minor": 4
}

{
 "cells": [
  {
   "cell_type": "markdown",
   "metadata": {},
   "source": [
    "# jQueryUI tests\n",
    "\n",
    "These tests verify that JQueryUI loads with CSS styling when requested."
   ]
  },
  {
   "cell_type": "code",
   "execution_count": 1,
   "metadata": {},
   "outputs": [],
   "source": [
    "from jp_proxy_widget import notebook_test_helpers\n",
    "\n",
    "validators = notebook_test_helpers.ValidationSuite()"
   ]
  },
  {
   "cell_type": "code",
   "execution_count": 2,
   "metadata": {},
   "outputs": [],
   "source": [
    "import jp_proxy_widget\n",
    "from jp_proxy_widget import js_context\n",
    "\n",
    "class JQueryUIDialogTestWidget(jp_proxy_widget.JSProxyWidget):\n",
    "    \n",
    "    \"A jQueryUI dialog with custom styling that reports back to Python when it is closed.\"\n",
    "    \n",
    "    def __init__(self, *pargs, **kwargs):\n",
    "        super(JQueryUIDialogTestWidget, self).__init__(*pargs, **kwargs)\n",
    "        self.is_open = \"unknown\"\n",
    "        self.check_jquery()\n",
    "        random_style = \"\"\"\n",
    "        .dialog-random-style-for-testing2 {\n",
    "            color: rgb(216, 50, 61);\n",
    "            background-color: rgb(200, 218, 61);\n",
    "        }\n",
    "        \"\"\"\n",
    "        self.load_css_text(\"dialog-random-stylesheet\", random_style)\n",
    "\n",
    "        self.js_init(\"\"\"\n",
    "            // Add dialog as a child to the widget element.\n",
    "            element.empty();\n",
    "            var dialog = $('<div><b class=\"dialog-random-style-for-testing2\">Hello from jQueryUI</b></div>')\n",
    "            .appendTo(element);\n",
    "\n",
    "            // Add some callables to the element accessible from Python.\n",
    "            element.report_status = function() {\n",
    "                // Report whether the dialog is now open back to Python.\n",
    "                is_open_callback(dialog.dialog(\"isOpen\"))\n",
    "            };\n",
    "\n",
    "            element.close = function () {\n",
    "                // Close the dialog.\n",
    "                dialog.dialog(\"close\");\n",
    "            };\n",
    "            \n",
    "            // Open the dialog and have it report its open status when it's closed.\n",
    "            dialog.dialog({close: element.report_status});\n",
    "            \n",
    "            element.report_status();\n",
    "        \"\"\", is_open_callback=self.is_open_callback)\n",
    "        \n",
    "    def is_open_callback(self, value):\n",
    "        \"Python callback which remembers whether the dialog reported itself open or not.\"\n",
    "        self.is_open = value\n",
    "            \n"
   ]
  },
  {
   "cell_type": "code",
   "execution_count": 3,
   "metadata": {},
   "outputs": [
    {
     "data": {
      "application/vnd.jupyter.widget-view+json": {
       "model_id": "20988141d7264877a38c701624dd7573",
       "version_major": 2,
       "version_minor": 0
      },
      "text/plain": [
       "JQueryUIDialogTestWidget(status='Not yet rendered')"
      ]
     },
     "metadata": {},
     "output_type": "display_data"
    }
   ],
   "source": [
    "# Create and display the dialog.\n",
    "test_dialog = JQueryUIDialogTestWidget()\n",
    "test_dialog"
   ]
  },
  {
   "cell_type": "code",
   "execution_count": 4,
   "metadata": {},
   "outputs": [
    {
     "data": {
      "text/plain": [
       "'unknown'"
      ]
     },
     "execution_count": 4,
     "metadata": {},
     "output_type": "execute_result"
    }
   ],
   "source": [
    "# NOTE: Click here to focus on the cell (otherwise \"enter\" with the dialog focused will close the dialog).\n",
    "test_dialog.is_open"
   ]
  },
  {
   "cell_type": "code",
   "execution_count": 5,
   "metadata": {},
   "outputs": [
    {
     "data": {
      "text/plain": [
       "element"
      ]
     },
     "execution_count": 5,
     "metadata": {},
     "output_type": "execute_result"
    }
   ],
   "source": [
    "# Close the dialog by calling the element.close() method.\n",
    "test_dialog.element.close()"
   ]
  },
  {
   "cell_type": "code",
   "execution_count": 6,
   "metadata": {},
   "outputs": [],
   "source": [
    "def validate_test_dialog():\n",
    "    assert test_dialog.is_open == False\n",
    "    print('test_dialog apparently ok!')\n",
    "\n",
    "validators.add_validation(test_dialog, validate_test_dialog)"
   ]
  },
  {
   "cell_type": "code",
   "execution_count": 7,
   "metadata": {},
   "outputs": [],
   "source": [
    "test_slider_css = \"\"\"\n",
    "  #test-slider-custom-handle {\n",
    "    width: 3em;\n",
    "    height: 1.6em;\n",
    "    top: 50%;\n",
    "    margin-top: -.8em;\n",
    "    text-align: center;\n",
    "    line-height: 1.6em;\n",
    "  }\n",
    "  #test-slider-container {\n",
    "    width: 50em;\n",
    "    height: 10em;\n",
    "  }\n",
    "\"\"\"\n",
    "\n",
    "class JQueryUISliderTestWidget(jp_proxy_widget.JSProxyWidget):\n",
    "    \n",
    "    \"A slider adapted from http://jqueryui.com/slider/#custom-handle\"\n",
    "    \n",
    "    def __init__(self, *pargs, **kwargs):\n",
    "        super(JQueryUISliderTestWidget, self).__init__(*pargs, **kwargs)\n",
    "        self.slider_value = \"unknown\"\n",
    "        \n",
    "        self.load_css_text(\"test-slider-stylesheet\", test_slider_css)\n",
    "\n",
    "        self.js_init(\"\"\"\n",
    "            element.html('<div class=\"test-slider-container\"></div>');\n",
    "            var slider_div = $(\"<div></div>\").appendTo(element);\n",
    "            var handle = $('<div class=\"test-slider-custom-handle ui-slider-handle\"></div>')\n",
    "            .width(\"30px\")\n",
    "            .appendTo(slider_div);\n",
    "            slider_div.slider({\n",
    "              min: -50,\n",
    "              max: 65,\n",
    "              value: 43,\n",
    "              create: function() {\n",
    "                //handle.text( element.slider( \"value\" ) ); // causes error\n",
    "              },\n",
    "              slide: function( event, ui ) {\n",
    "                handle.text( ui.value );\n",
    "              },\n",
    "              change: function( event, ui ) {\n",
    "                handle.text( ui.value );\n",
    "                report_change( ui.value );\n",
    "              }\n",
    "            });\n",
    "            element.height(\"50px\").width(\"300px\").css(\"background-color\", \"cornsilk\");\n",
    "            slider_div.width(\"250px\");\n",
    "            slider_div.position({\n",
    "              my: \"center\",\n",
    "              at: \"center\",\n",
    "              of: element\n",
    "            });\n",
    "            element.set_value = function(value) {\n",
    "                slider_div.slider(\"value\", value);\n",
    "            };\n",
    "            element.set_value(44);\n",
    "        \"\"\", report_change=self.report_change)\n",
    "        \n",
    "    def report_change(self, value):\n",
    "        self.slider_value = value\n",
    "        "
   ]
  },
  {
   "cell_type": "code",
   "execution_count": 8,
   "metadata": {},
   "outputs": [
    {
     "data": {
      "application/vnd.jupyter.widget-view+json": {
       "model_id": "68c7bd88dc244342a307026a56b28650",
       "version_major": 2,
       "version_minor": 0
      },
      "text/plain": [
       "JQueryUISliderTestWidget(status='Not yet rendered')"
      ]
     },
     "metadata": {},
     "output_type": "display_data"
    }
   ],
   "source": [
    "slider_widget = JQueryUISliderTestWidget()\n",
    "slider_widget"
   ]
  },
  {
   "cell_type": "code",
   "execution_count": 9,
   "metadata": {},
   "outputs": [
    {
     "data": {
      "text/plain": [
       "'unknown'"
      ]
     },
     "execution_count": 9,
     "metadata": {},
     "output_type": "execute_result"
    }
   ],
   "source": [
    "slider_widget.slider_value\n",
    "#slider_widget.print_status()"
   ]
  },
  {
   "cell_type": "code",
   "execution_count": 10,
   "metadata": {},
   "outputs": [],
   "source": [
    "slider_widget.element.set_value(-15)\n",
    "\n",
    "def validate_slider_widget():\n",
    "    assert slider_widget.slider_value == -15\n",
    "    print('slider_widget apparently ok!')\n",
    "\n",
    "validators.add_validation(slider_widget, validate_slider_widget)"
   ]
  },
  {
   "cell_type": "code",
   "execution_count": null,
   "metadata": {},
   "outputs": [],
   "source": []
  },
  {
   "cell_type": "code",
   "execution_count": 11,
   "metadata": {},
   "outputs": [
    {
     "name": "stdout",
     "output_type": "stream",
     "text": [
      "sleeping in kernel interface...\n",
      "initializing validator widget.\n"
     ]
    },
    {
     "data": {
      "application/vnd.jupyter.widget-view+json": {
       "model_id": "f60c30049fc14df3b5b164253c2cb809",
       "version_major": 2,
       "version_minor": 0
      },
      "text/plain": [
       "VBox(children=(JSProxyWidget(status='Not yet rendered'), Text(value='Not yet rendered', description='status:')…"
      ]
     },
     "metadata": {},
     "output_type": "display_data"
    }
   ],
   "source": [
    "# This should be the last cell\n",
    "validators.run_all_in_widget()"
   ]
  },
  {
   "cell_type": "code",
   "execution_count": null,
   "metadata": {},
   "outputs": [],
   "source": []
  }
 ],
 "metadata": {
  "kernelspec": {
   "display_name": "Python 3",
   "language": "python",
   "name": "python3"
  },
  "language_info": {
   "codemirror_mode": {
    "name": "ipython",
    "version": 3
   },
   "file_extension": ".py",
   "mimetype": "text/x-python",
   "name": "python",
   "nbconvert_exporter": "python",
   "pygments_lexer": "ipython3",
   "version": "3.6.8"
  }
 },
 "nbformat": 4,
 "nbformat_minor": 2
}
